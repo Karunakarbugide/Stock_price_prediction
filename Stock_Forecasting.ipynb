{
 "cells": [
  {
   "cell_type": "code",
   "execution_count": 2,
   "id": "e7a4ff3e",
   "metadata": {},
   "outputs": [],
   "source": [
    "#data collections from \n",
    "import pandas_datareader as pdr\n",
    "import pandas as pd\n",
    "import numpy as np\n",
    "from numpy import array\n",
    "import matplotlib.pyplot as plt\n",
    "\n",
    "\n",
    "from sklearn.preprocessing import MinMaxScaler\n",
    "\n",
    "key = 'ea8ef734d6d2de9fd298aecb8d3bfa1fc45b97dd' #key is my personal "
   ]
  },
  {
   "cell_type": "markdown",
   "id": "4a8ca787",
   "metadata": {},
   "source": [
    "## Explore The Data: What Data Are We Using?\n",
    "\n",
    "Using the stock api from  dataset from [this] (https://www.tiingo.com/).\n",
    "\n",
    "Tiingo's APIs are built to be performant, consistent, and also support extensive filters to speed up your development time.\n",
    "\n",
    "Because of this, we hope you will take the time to read the documentation and learn about all of our features, but we also understand you may want to jump right in. So if you want to jump right in, click on any endpoint link, which are located on the sidebar to your left.\n",
    "\n",
    "In order to use the API, you must sign-up to create an account. All accounts are free and if you need higher usage limits, or you have a commercial use case, you can upgade to the Power and/or Commercial plan.\n",
    "\n",
    "Once you create an account, your account with be assigned an authentication token. This token is used in place of your username & password throughout the API, so keep it safe like you would your password.\n",
    "\n",
    "You can find your API token by clicking [here ](https://api.tiingo.com/account/api/token), or to make it easy, your token will be shown below if you are logged in.\n",
    "\n",
    "\n",
    "- **Date**       (date) -   The date this data pertains to.\n",
    "- **Open**       (float) -  The opening price for the asset on the given date\n",
    "- **High**       (float) -  The high price for the asset on the given date.\n",
    "- **Low**        (float) -  The low price for the asset on the given date.\n",
    "- **Close**      (float) -  The closing price of the given asset on the given date.\n",
    "- **volume**     (int64) -  The number of shares traded for the asset\n",
    "- **adj Open**   (float) -  The adjusted opening price for the asset on the given date\n",
    "- **Adj High**   (float) -  The adjusted High price for the asset on the given date\n",
    "- **Adj Low**    (flaot) -  The adjusted Low price for the asset on the given date\n",
    "- **Adj Closed** (float) -  The adjusted Closing price for the asset on the given date\n",
    "- **Adj Volume** (int64) -  The number of sahres traded for the asset\n",
    "- **Dividend**   (float) -  The dividend paid out on\"date\"(note that \"date\" will be the \"exDate\" fpr the dividend).\n",
    "- **Split**      (float)  - The factor used to adjust prices when company split, reverse splits, or pays a distribution."
   ]
  },
  {
   "cell_type": "code",
   "execution_count": 3,
   "id": "49814823",
   "metadata": {},
   "outputs": [],
   "source": [
    "df_entity = pdr.get_data_tiingo('JPM', api_key=key)"
   ]
  },
  {
   "cell_type": "markdown",
   "id": "bed04024",
   "metadata": {},
   "source": [
    "So here is the list of companies with their Symbol for trading  NSE [here](https://www.nseindia.com/) & NSDAQ [here](https://www.nasdaq.com/market-activity/stocks/screener)"
   ]
  },
  {
   "cell_type": "code",
   "execution_count": 4,
   "id": "3dd14e67",
   "metadata": {},
   "outputs": [],
   "source": [
    "df_entity.to_csv('JPmorgan.csv') #load the data into csv file"
   ]
  },
  {
   "cell_type": "code",
   "execution_count": 5,
   "id": "ca2a3bba",
   "metadata": {},
   "outputs": [],
   "source": [
    "df = pd.read_csv('JPmorgan.csv') # read the loaded csv file"
   ]
  },
  {
   "cell_type": "code",
   "execution_count": 6,
   "id": "5c2b3c59",
   "metadata": {},
   "outputs": [
    {
     "name": "stdout",
     "output_type": "stream",
     "text": [
      "<class 'pandas.core.frame.DataFrame'>\n",
      "RangeIndex: 1257 entries, 0 to 1256\n",
      "Data columns (total 14 columns):\n",
      " #   Column       Non-Null Count  Dtype  \n",
      "---  ------       --------------  -----  \n",
      " 0   symbol       1257 non-null   object \n",
      " 1   date         1257 non-null   object \n",
      " 2   close        1257 non-null   float64\n",
      " 3   high         1257 non-null   float64\n",
      " 4   low          1257 non-null   float64\n",
      " 5   open         1257 non-null   float64\n",
      " 6   volume       1257 non-null   int64  \n",
      " 7   adjClose     1257 non-null   float64\n",
      " 8   adjHigh      1257 non-null   float64\n",
      " 9   adjLow       1257 non-null   float64\n",
      " 10  adjOpen      1257 non-null   float64\n",
      " 11  adjVolume    1257 non-null   int64  \n",
      " 12  divCash      1257 non-null   float64\n",
      " 13  splitFactor  1257 non-null   float64\n",
      "dtypes: float64(10), int64(2), object(2)\n",
      "memory usage: 137.6+ KB\n"
     ]
    }
   ],
   "source": [
    "df.info()"
   ]
  },
  {
   "cell_type": "code",
   "execution_count": 7,
   "id": "a4b5fd60",
   "metadata": {},
   "outputs": [
    {
     "data": {
      "text/html": [
       "<div>\n",
       "<style scoped>\n",
       "    .dataframe tbody tr th:only-of-type {\n",
       "        vertical-align: middle;\n",
       "    }\n",
       "\n",
       "    .dataframe tbody tr th {\n",
       "        vertical-align: top;\n",
       "    }\n",
       "\n",
       "    .dataframe thead th {\n",
       "        text-align: right;\n",
       "    }\n",
       "</style>\n",
       "<table border=\"1\" class=\"dataframe\">\n",
       "  <thead>\n",
       "    <tr style=\"text-align: right;\">\n",
       "      <th></th>\n",
       "      <th>symbol</th>\n",
       "      <th>date</th>\n",
       "      <th>close</th>\n",
       "      <th>high</th>\n",
       "      <th>low</th>\n",
       "      <th>open</th>\n",
       "      <th>volume</th>\n",
       "      <th>adjClose</th>\n",
       "      <th>adjHigh</th>\n",
       "      <th>adjLow</th>\n",
       "      <th>adjOpen</th>\n",
       "      <th>adjVolume</th>\n",
       "      <th>divCash</th>\n",
       "      <th>splitFactor</th>\n",
       "    </tr>\n",
       "  </thead>\n",
       "  <tbody>\n",
       "    <tr>\n",
       "      <th>0</th>\n",
       "      <td>JPM</td>\n",
       "      <td>2016-08-26 00:00:00+00:00</td>\n",
       "      <td>66.22</td>\n",
       "      <td>66.880</td>\n",
       "      <td>65.845</td>\n",
       "      <td>66.33</td>\n",
       "      <td>14038597</td>\n",
       "      <td>57.722697</td>\n",
       "      <td>58.298007</td>\n",
       "      <td>57.395817</td>\n",
       "      <td>57.818582</td>\n",
       "      <td>14038597</td>\n",
       "      <td>0.0</td>\n",
       "      <td>1.0</td>\n",
       "    </tr>\n",
       "    <tr>\n",
       "      <th>1</th>\n",
       "      <td>JPM</td>\n",
       "      <td>2016-08-29 00:00:00+00:00</td>\n",
       "      <td>66.95</td>\n",
       "      <td>67.100</td>\n",
       "      <td>66.460</td>\n",
       "      <td>66.49</td>\n",
       "      <td>14580044</td>\n",
       "      <td>58.359024</td>\n",
       "      <td>58.489777</td>\n",
       "      <td>57.931901</td>\n",
       "      <td>57.958051</td>\n",
       "      <td>14580044</td>\n",
       "      <td>0.0</td>\n",
       "      <td>1.0</td>\n",
       "    </tr>\n",
       "    <tr>\n",
       "      <th>2</th>\n",
       "      <td>JPM</td>\n",
       "      <td>2016-08-30 00:00:00+00:00</td>\n",
       "      <td>67.50</td>\n",
       "      <td>67.595</td>\n",
       "      <td>66.950</td>\n",
       "      <td>66.96</td>\n",
       "      <td>13791126</td>\n",
       "      <td>58.838449</td>\n",
       "      <td>58.921258</td>\n",
       "      <td>58.359024</td>\n",
       "      <td>58.367741</td>\n",
       "      <td>13791126</td>\n",
       "      <td>0.0</td>\n",
       "      <td>1.0</td>\n",
       "    </tr>\n",
       "    <tr>\n",
       "      <th>3</th>\n",
       "      <td>JPM</td>\n",
       "      <td>2016-08-31 00:00:00+00:00</td>\n",
       "      <td>67.50</td>\n",
       "      <td>67.770</td>\n",
       "      <td>66.855</td>\n",
       "      <td>67.46</td>\n",
       "      <td>14952329</td>\n",
       "      <td>58.838449</td>\n",
       "      <td>59.073803</td>\n",
       "      <td>58.276215</td>\n",
       "      <td>58.803582</td>\n",
       "      <td>14952329</td>\n",
       "      <td>0.0</td>\n",
       "      <td>1.0</td>\n",
       "    </tr>\n",
       "    <tr>\n",
       "      <th>4</th>\n",
       "      <td>JPM</td>\n",
       "      <td>2016-09-01 00:00:00+00:00</td>\n",
       "      <td>67.21</td>\n",
       "      <td>67.720</td>\n",
       "      <td>66.650</td>\n",
       "      <td>67.64</td>\n",
       "      <td>12226517</td>\n",
       "      <td>58.585661</td>\n",
       "      <td>59.030219</td>\n",
       "      <td>58.097520</td>\n",
       "      <td>58.960484</td>\n",
       "      <td>12226517</td>\n",
       "      <td>0.0</td>\n",
       "      <td>1.0</td>\n",
       "    </tr>\n",
       "  </tbody>\n",
       "</table>\n",
       "</div>"
      ],
      "text/plain": [
       "  symbol                       date  close    high     low   open    volume  \\\n",
       "0    JPM  2016-08-26 00:00:00+00:00  66.22  66.880  65.845  66.33  14038597   \n",
       "1    JPM  2016-08-29 00:00:00+00:00  66.95  67.100  66.460  66.49  14580044   \n",
       "2    JPM  2016-08-30 00:00:00+00:00  67.50  67.595  66.950  66.96  13791126   \n",
       "3    JPM  2016-08-31 00:00:00+00:00  67.50  67.770  66.855  67.46  14952329   \n",
       "4    JPM  2016-09-01 00:00:00+00:00  67.21  67.720  66.650  67.64  12226517   \n",
       "\n",
       "    adjClose    adjHigh     adjLow    adjOpen  adjVolume  divCash  splitFactor  \n",
       "0  57.722697  58.298007  57.395817  57.818582   14038597      0.0          1.0  \n",
       "1  58.359024  58.489777  57.931901  57.958051   14580044      0.0          1.0  \n",
       "2  58.838449  58.921258  58.359024  58.367741   13791126      0.0          1.0  \n",
       "3  58.838449  59.073803  58.276215  58.803582   14952329      0.0          1.0  \n",
       "4  58.585661  59.030219  58.097520  58.960484   12226517      0.0          1.0  "
      ]
     },
     "execution_count": 7,
     "metadata": {},
     "output_type": "execute_result"
    }
   ],
   "source": [
    "df.head(5)"
   ]
  },
  {
   "cell_type": "code",
   "execution_count": 8,
   "id": "26ffe1aa",
   "metadata": {},
   "outputs": [
    {
     "data": {
      "text/html": [
       "<div>\n",
       "<style scoped>\n",
       "    .dataframe tbody tr th:only-of-type {\n",
       "        vertical-align: middle;\n",
       "    }\n",
       "\n",
       "    .dataframe tbody tr th {\n",
       "        vertical-align: top;\n",
       "    }\n",
       "\n",
       "    .dataframe thead th {\n",
       "        text-align: right;\n",
       "    }\n",
       "</style>\n",
       "<table border=\"1\" class=\"dataframe\">\n",
       "  <thead>\n",
       "    <tr style=\"text-align: right;\">\n",
       "      <th></th>\n",
       "      <th>symbol</th>\n",
       "      <th>date</th>\n",
       "      <th>close</th>\n",
       "      <th>high</th>\n",
       "      <th>low</th>\n",
       "      <th>open</th>\n",
       "      <th>volume</th>\n",
       "      <th>adjClose</th>\n",
       "      <th>adjHigh</th>\n",
       "      <th>adjLow</th>\n",
       "      <th>adjOpen</th>\n",
       "      <th>adjVolume</th>\n",
       "      <th>divCash</th>\n",
       "      <th>splitFactor</th>\n",
       "    </tr>\n",
       "  </thead>\n",
       "  <tbody>\n",
       "    <tr>\n",
       "      <th>1252</th>\n",
       "      <td>JPM</td>\n",
       "      <td>2021-08-18 00:00:00+00:00</td>\n",
       "      <td>155.58</td>\n",
       "      <td>158.01</td>\n",
       "      <td>155.34</td>\n",
       "      <td>156.31</td>\n",
       "      <td>8065493</td>\n",
       "      <td>155.58</td>\n",
       "      <td>158.01</td>\n",
       "      <td>155.34</td>\n",
       "      <td>156.31</td>\n",
       "      <td>8065493</td>\n",
       "      <td>0.0</td>\n",
       "      <td>1.0</td>\n",
       "    </tr>\n",
       "    <tr>\n",
       "      <th>1253</th>\n",
       "      <td>JPM</td>\n",
       "      <td>2021-08-19 00:00:00+00:00</td>\n",
       "      <td>154.28</td>\n",
       "      <td>155.56</td>\n",
       "      <td>153.01</td>\n",
       "      <td>153.16</td>\n",
       "      <td>9517737</td>\n",
       "      <td>154.28</td>\n",
       "      <td>155.56</td>\n",
       "      <td>153.01</td>\n",
       "      <td>153.16</td>\n",
       "      <td>9517737</td>\n",
       "      <td>0.0</td>\n",
       "      <td>1.0</td>\n",
       "    </tr>\n",
       "    <tr>\n",
       "      <th>1254</th>\n",
       "      <td>JPM</td>\n",
       "      <td>2021-08-20 00:00:00+00:00</td>\n",
       "      <td>154.72</td>\n",
       "      <td>154.90</td>\n",
       "      <td>153.16</td>\n",
       "      <td>154.35</td>\n",
       "      <td>6974102</td>\n",
       "      <td>154.72</td>\n",
       "      <td>154.90</td>\n",
       "      <td>153.16</td>\n",
       "      <td>154.35</td>\n",
       "      <td>6974102</td>\n",
       "      <td>0.0</td>\n",
       "      <td>1.0</td>\n",
       "    </tr>\n",
       "    <tr>\n",
       "      <th>1255</th>\n",
       "      <td>JPM</td>\n",
       "      <td>2021-08-23 00:00:00+00:00</td>\n",
       "      <td>156.70</td>\n",
       "      <td>157.09</td>\n",
       "      <td>155.24</td>\n",
       "      <td>155.33</td>\n",
       "      <td>7934587</td>\n",
       "      <td>156.70</td>\n",
       "      <td>157.09</td>\n",
       "      <td>155.24</td>\n",
       "      <td>155.33</td>\n",
       "      <td>7934587</td>\n",
       "      <td>0.0</td>\n",
       "      <td>1.0</td>\n",
       "    </tr>\n",
       "    <tr>\n",
       "      <th>1256</th>\n",
       "      <td>JPM</td>\n",
       "      <td>2021-08-24 00:00:00+00:00</td>\n",
       "      <td>157.67</td>\n",
       "      <td>158.55</td>\n",
       "      <td>156.87</td>\n",
       "      <td>157.00</td>\n",
       "      <td>7670925</td>\n",
       "      <td>157.67</td>\n",
       "      <td>158.55</td>\n",
       "      <td>156.87</td>\n",
       "      <td>157.00</td>\n",
       "      <td>7670925</td>\n",
       "      <td>0.0</td>\n",
       "      <td>1.0</td>\n",
       "    </tr>\n",
       "  </tbody>\n",
       "</table>\n",
       "</div>"
      ],
      "text/plain": [
       "     symbol                       date   close    high     low    open  \\\n",
       "1252    JPM  2021-08-18 00:00:00+00:00  155.58  158.01  155.34  156.31   \n",
       "1253    JPM  2021-08-19 00:00:00+00:00  154.28  155.56  153.01  153.16   \n",
       "1254    JPM  2021-08-20 00:00:00+00:00  154.72  154.90  153.16  154.35   \n",
       "1255    JPM  2021-08-23 00:00:00+00:00  156.70  157.09  155.24  155.33   \n",
       "1256    JPM  2021-08-24 00:00:00+00:00  157.67  158.55  156.87  157.00   \n",
       "\n",
       "       volume  adjClose  adjHigh  adjLow  adjOpen  adjVolume  divCash  \\\n",
       "1252  8065493    155.58   158.01  155.34   156.31    8065493      0.0   \n",
       "1253  9517737    154.28   155.56  153.01   153.16    9517737      0.0   \n",
       "1254  6974102    154.72   154.90  153.16   154.35    6974102      0.0   \n",
       "1255  7934587    156.70   157.09  155.24   155.33    7934587      0.0   \n",
       "1256  7670925    157.67   158.55  156.87   157.00    7670925      0.0   \n",
       "\n",
       "      splitFactor  \n",
       "1252          1.0  \n",
       "1253          1.0  \n",
       "1254          1.0  \n",
       "1255          1.0  \n",
       "1256          1.0  "
      ]
     },
     "execution_count": 8,
     "metadata": {},
     "output_type": "execute_result"
    }
   ],
   "source": [
    "df.tail(5)"
   ]
  },
  {
   "cell_type": "code",
   "execution_count": 9,
   "id": "26aeb744",
   "metadata": {},
   "outputs": [],
   "source": [
    "df1 = df.reset_index()['close']  #taking the dependent varailbe out"
   ]
  },
  {
   "cell_type": "code",
   "execution_count": 10,
   "id": "973115ec",
   "metadata": {},
   "outputs": [
    {
     "data": {
      "text/plain": [
       "(1257,)"
      ]
     },
     "execution_count": 10,
     "metadata": {},
     "output_type": "execute_result"
    }
   ],
   "source": [
    "df1.shape"
   ]
  },
  {
   "cell_type": "code",
   "execution_count": 11,
   "id": "d04609d5",
   "metadata": {},
   "outputs": [
    {
     "data": {
      "text/plain": [
       "[<matplotlib.lines.Line2D at 0x2b4efabeb50>]"
      ]
     },
     "execution_count": 11,
     "metadata": {},
     "output_type": "execute_result"
    },
    {
     "data": {
      "image/png": "[encoded data removed]",
      "text/plain": [
       "<Figure size 432x288 with 1 Axes>"
      ]
     },
     "metadata": {
      "needs_background": "light"
     },
     "output_type": "display_data"
    }
   ],
   "source": [
    "plt.plot(df1)"
   ]
  },
  {
   "cell_type": "code",
   "execution_count": 12,
   "id": "167b4a18",
   "metadata": {},
   "outputs": [],
   "source": [
    "# LSTM are sensitive to the scale of the data. so we apply MInMax scaler\n",
    "\n",
    "scaler = MinMaxScaler(feature_range=(0,1))\n",
    "df1 = scaler.fit_transform(np.array(df1).reshape(-1,1))"
   ]
  },
  {
   "cell_type": "code",
   "execution_count": 13,
   "id": "742670ca",
   "metadata": {},
   "outputs": [
    {
     "data": {
      "text/plain": [
       "(1257, 1)"
      ]
     },
     "execution_count": 13,
     "metadata": {},
     "output_type": "execute_result"
    }
   ],
   "source": [
    "df1.shape"
   ]
  },
  {
   "cell_type": "code",
   "execution_count": 14,
   "id": "74e2ac63",
   "metadata": {},
   "outputs": [
    {
     "name": "stdout",
     "output_type": "stream",
     "text": [
      "Train Shape: (1005, 1)\n",
      "Test Shape: (252, 1)\n"
     ]
    }
   ],
   "source": [
    "# splitting dataset into train & test split for dependent variable\n",
    "\n",
    "training_size=int(len(df1)*0.80)\n",
    "test_size  = len(df1)-training_size\n",
    "train_data,test_data = df1[0:training_size,:],df1[training_size:len(df1),:1]\n",
    "print('Train Shape:', train_data.shape)\n",
    "print('Test Shape:', test_data.shape)"
   ]
  },
  {
   "cell_type": "code",
   "execution_count": 15,
   "id": "a34c7256",
   "metadata": {},
   "outputs": [],
   "source": [
    "# convert an array of data into dataset matrix\n",
    "\n",
    "def create_dataset (dataset, time_step=1):\n",
    "    dataX, dataY =[], []\n",
    "    for i in range(len(dataset)-time_step-1):\n",
    "        a = dataset[i:(i+time_step),0]            ## i=0 , 0,1,2,3\n",
    "        dataX.append(a)\n",
    "        dataY.append(dataset[i +time_step,0])\n",
    "    return np.array(dataX), np.array(dataY)        "
   ]
  },
  {
   "cell_type": "code",
   "execution_count": 16,
   "id": "753eeb7b",
   "metadata": {},
   "outputs": [
    {
     "name": "stdout",
     "output_type": "stream",
     "text": [
      "Train Shape: (904, 100) (904,)\n",
      "Test Shape: (151, 100) (151,)\n"
     ]
    }
   ],
   "source": [
    "#reshape into X=t,t+1 ,t+2,t+3 and Y=t+4\n",
    "time_step = 100 \n",
    "X_train, y_train = create_dataset(train_data, time_step)\n",
    "X_test, y_test = create_dataset(test_data, time_step)\n",
    "\n",
    "print('Train Shape:', X_train.shape, y_train.shape )\n",
    "print('Test Shape:', X_test.shape, y_test.shape)"
   ]
  },
  {
   "cell_type": "code",
   "execution_count": 17,
   "id": "e987b595",
   "metadata": {},
   "outputs": [],
   "source": [
    "# reshpae input into to be [Samples, time steps, features] which is required for LSTM\n",
    "X_train = X_train.reshape(X_train.shape[0], X_train.shape[1], 1)\n",
    "X_test = X_test.reshape(X_test.shape[0], X_test.shape[1], 1)"
   ]
  },
  {
   "cell_type": "code",
   "execution_count": 18,
   "id": "df8a67d2",
   "metadata": {},
   "outputs": [
    {
     "name": "stdout",
     "output_type": "stream",
     "text": [
      "Train Shape: (904, 100, 1)\n",
      "Test Shape: (151, 100, 1)\n"
     ]
    }
   ],
   "source": [
    "print('Train Shape:', X_train.shape)\n",
    "print('Test Shape:', X_test.shape)"
   ]
  },
  {
   "cell_type": "code",
   "execution_count": 19,
   "id": "278c66bc",
   "metadata": {},
   "outputs": [],
   "source": [
    "## Create the Stacked LSTM model\n",
    "\n",
    "from tensorflow.keras.models import Sequential\n",
    "from tensorflow.keras.layers import Dense\n",
    "from tensorflow.keras.layers import LSTM"
   ]
  },
  {
   "cell_type": "code",
   "execution_count": 20,
   "id": "fe8bb13d",
   "metadata": {},
   "outputs": [],
   "source": [
    "model = Sequential()\n",
    "model.add(LSTM(50, return_sequences=True, input_shape=(100,1)))\n",
    "model.add(LSTM(50, return_sequences=True))\n",
    "model.add(LSTM(50))\n",
    "model.add(Dense(1))\n",
    "model.compile(loss='mean_squared_error', optimizer='adam')"
   ]
  },
  {
   "cell_type": "code",
   "execution_count": 21,
   "id": "b6538940",
   "metadata": {},
   "outputs": [
    {
     "name": "stdout",
     "output_type": "stream",
     "text": [
      "Model: \"sequential\"\n",
      "_________________________________________________________________\n",
      "Layer (type)                 Output Shape              Param #   \n",
      "=================================================================\n",
      "lstm (LSTM)                  (None, 100, 50)           10400     \n",
      "_________________________________________________________________\n",
      "lstm_1 (LSTM)                (None, 100, 50)           20200     \n",
      "_________________________________________________________________\n",
      "lstm_2 (LSTM)                (None, 50)                20200     \n",
      "_________________________________________________________________\n",
      "dense (Dense)                (None, 1)                 51        \n",
      "=================================================================\n",
      "Total params: 50,851\n",
      "Trainable params: 50,851\n",
      "Non-trainable params: 0\n",
      "_________________________________________________________________\n"
     ]
    }
   ],
   "source": [
    "model.summary()"
   ]
  },
  {
   "cell_type": "code",
   "execution_count": 22,
   "id": "59851e23",
   "metadata": {},
   "outputs": [
    {
     "name": "stdout",
     "output_type": "stream",
     "text": [
      "Epoch 1/100\n",
      "15/15 [==============================] - 13s 377ms/step - loss: 0.0401 - val_loss: 0.1199\n",
      "Epoch 2/100\n",
      "15/15 [==============================] - 3s 219ms/step - loss: 0.0075 - val_loss: 0.0453\n",
      "Epoch 3/100\n",
      "15/15 [==============================] - 3s 204ms/step - loss: 0.0045 - val_loss: 0.0222\n",
      "Epoch 4/100\n",
      "15/15 [==============================] - 3s 230ms/step - loss: 0.0033 - val_loss: 0.0089\n",
      "Epoch 5/100\n",
      "15/15 [==============================] - 4s 234ms/step - loss: 0.0028 - val_loss: 0.0060\n",
      "Epoch 6/100\n",
      "15/15 [==============================] - 4s 236ms/step - loss: 0.0027 - val_loss: 0.0045\n",
      "Epoch 7/100\n",
      "15/15 [==============================] - 3s 229ms/step - loss: 0.0025 - val_loss: 0.0026\n",
      "Epoch 8/100\n",
      "15/15 [==============================] - 3s 225ms/step - loss: 0.0024 - val_loss: 0.0048\n",
      "Epoch 9/100\n",
      "15/15 [==============================] - 3s 217ms/step - loss: 0.0022 - val_loss: 0.0038\n",
      "Epoch 10/100\n",
      "15/15 [==============================] - 3s 218ms/step - loss: 0.0021 - val_loss: 0.0049\n",
      "Epoch 11/100\n",
      "15/15 [==============================] - 3s 217ms/step - loss: 0.0021 - val_loss: 0.0045\n",
      "Epoch 12/100\n",
      "15/15 [==============================] - 3s 222ms/step - loss: 0.0021 - val_loss: 0.0052\n",
      "Epoch 13/100\n",
      "15/15 [==============================] - 3s 226ms/step - loss: 0.0017 - val_loss: 0.0045\n",
      "Epoch 14/100\n",
      "15/15 [==============================] - 3s 215ms/step - loss: 0.0017 - val_loss: 0.0083\n",
      "Epoch 15/100\n",
      "15/15 [==============================] - 3s 214ms/step - loss: 0.0016 - val_loss: 0.0055\n",
      "Epoch 16/100\n",
      "15/15 [==============================] - 3s 215ms/step - loss: 0.0014 - val_loss: 0.0047\n",
      "Epoch 17/100\n",
      "15/15 [==============================] - 3s 219ms/step - loss: 0.0014 - val_loss: 0.0068\n",
      "Epoch 18/100\n",
      "15/15 [==============================] - 3s 217ms/step - loss: 0.0014 - val_loss: 0.0107\n",
      "Epoch 19/100\n",
      "15/15 [==============================] - 3s 219ms/step - loss: 0.0013 - val_loss: 0.0035\n",
      "Epoch 20/100\n",
      "15/15 [==============================] - 3s 215ms/step - loss: 0.0011 - val_loss: 0.0028\n",
      "Epoch 21/100\n",
      "15/15 [==============================] - 3s 213ms/step - loss: 0.0012 - val_loss: 0.0031\n",
      "Epoch 22/100\n",
      "15/15 [==============================] - 3s 216ms/step - loss: 0.0012 - val_loss: 0.0026\n",
      "Epoch 23/100\n",
      "15/15 [==============================] - 3s 215ms/step - loss: 0.0011 - val_loss: 0.0028\n",
      "Epoch 24/100\n",
      "15/15 [==============================] - 3s 215ms/step - loss: 0.0011 - val_loss: 0.0056\n",
      "Epoch 25/100\n",
      "15/15 [==============================] - 3s 216ms/step - loss: 0.0012 - val_loss: 0.0036\n",
      "Epoch 26/100\n",
      "15/15 [==============================] - 3s 217ms/step - loss: 0.0010 - val_loss: 0.0035\n",
      "Epoch 27/100\n",
      "15/15 [==============================] - 3s 223ms/step - loss: 9.1544e-04 - val_loss: 0.0032\n",
      "Epoch 28/100\n",
      "15/15 [==============================] - 3s 223ms/step - loss: 9.5279e-04 - val_loss: 0.0025\n",
      "Epoch 29/100\n",
      "15/15 [==============================] - 3s 222ms/step - loss: 0.0010 - val_loss: 0.0040\n",
      "Epoch 30/100\n",
      "15/15 [==============================] - 3s 224ms/step - loss: 0.0011 - val_loss: 0.0036\n",
      "Epoch 31/100\n",
      "15/15 [==============================] - 3s 223ms/step - loss: 9.0751e-04 - val_loss: 0.0046\n",
      "Epoch 32/100\n",
      "15/15 [==============================] - 3s 220ms/step - loss: 8.5961e-04 - val_loss: 0.0036\n",
      "Epoch 33/100\n",
      "15/15 [==============================] - 3s 217ms/step - loss: 8.6006e-04 - val_loss: 0.0045\n",
      "Epoch 34/100\n",
      "15/15 [==============================] - 3s 218ms/step - loss: 9.5616e-04 - val_loss: 0.0028\n",
      "Epoch 35/100\n",
      "15/15 [==============================] - 3s 217ms/step - loss: 8.7810e-04 - val_loss: 0.0026\n",
      "Epoch 36/100\n",
      "15/15 [==============================] - 3s 218ms/step - loss: 8.6863e-04 - val_loss: 0.0021\n",
      "Epoch 37/100\n",
      "15/15 [==============================] - 3s 219ms/step - loss: 8.4128e-04 - val_loss: 0.0025\n",
      "Epoch 38/100\n",
      "15/15 [==============================] - 3s 214ms/step - loss: 8.3017e-04 - val_loss: 0.0046\n",
      "Epoch 39/100\n",
      "15/15 [==============================] - 3s 218ms/step - loss: 8.1699e-04 - val_loss: 0.0019\n",
      "Epoch 40/100\n",
      "15/15 [==============================] - 3s 217ms/step - loss: 9.4381e-04 - val_loss: 0.0020\n",
      "Epoch 41/100\n",
      "15/15 [==============================] - 3s 215ms/step - loss: 8.3567e-04 - val_loss: 0.0076\n",
      "Epoch 42/100\n",
      "15/15 [==============================] - 3s 218ms/step - loss: 8.5475e-04 - val_loss: 0.0030\n",
      "Epoch 43/100\n",
      "15/15 [==============================] - 3s 218ms/step - loss: 9.5959e-04 - val_loss: 0.0039\n",
      "Epoch 44/100\n",
      "15/15 [==============================] - 3s 220ms/step - loss: 9.4445e-04 - val_loss: 0.0021\n",
      "Epoch 45/100\n",
      "15/15 [==============================] - 3s 219ms/step - loss: 8.1711e-04 - val_loss: 0.0022\n",
      "Epoch 46/100\n",
      "15/15 [==============================] - 3s 219ms/step - loss: 8.2277e-04 - val_loss: 0.0019\n",
      "Epoch 47/100\n",
      "15/15 [==============================] - 3s 220ms/step - loss: 7.7946e-04 - val_loss: 0.0028\n",
      "Epoch 48/100\n",
      "15/15 [==============================] - 3s 219ms/step - loss: 8.2898e-04 - val_loss: 0.0024\n",
      "Epoch 49/100\n",
      "15/15 [==============================] - 3s 219ms/step - loss: 8.1172e-04 - val_loss: 0.0017\n",
      "Epoch 50/100\n",
      "15/15 [==============================] - 3s 218ms/step - loss: 8.0803e-04 - val_loss: 0.0018\n",
      "Epoch 51/100\n",
      "15/15 [==============================] - 3s 220ms/step - loss: 0.0011 - val_loss: 0.0030\n",
      "Epoch 52/100\n",
      "15/15 [==============================] - 3s 225ms/step - loss: 8.5501e-04 - val_loss: 0.0026\n",
      "Epoch 53/100\n",
      "15/15 [==============================] - 3s 224ms/step - loss: 8.2383e-04 - val_loss: 0.0015\n",
      "Epoch 54/100\n",
      "15/15 [==============================] - 3s 222ms/step - loss: 7.6274e-04 - val_loss: 0.0037\n",
      "Epoch 55/100\n",
      "15/15 [==============================] - 3s 222ms/step - loss: 8.6721e-04 - val_loss: 0.0063\n",
      "Epoch 56/100\n",
      "15/15 [==============================] - 3s 221ms/step - loss: 9.9631e-04 - val_loss: 0.0021\n",
      "Epoch 57/100\n",
      "15/15 [==============================] - 3s 219ms/step - loss: 9.0668e-04 - val_loss: 0.0016\n",
      "Epoch 58/100\n",
      "15/15 [==============================] - 3s 217ms/step - loss: 8.0974e-04 - val_loss: 0.0035\n",
      "Epoch 59/100\n",
      "15/15 [==============================] - 3s 218ms/step - loss: 7.6563e-04 - val_loss: 0.0026\n",
      "Epoch 60/100\n",
      "15/15 [==============================] - 3s 220ms/step - loss: 7.4489e-04 - val_loss: 0.0017\n",
      "Epoch 61/100\n",
      "15/15 [==============================] - 3s 219ms/step - loss: 7.4896e-04 - val_loss: 0.0015\n",
      "Epoch 62/100\n",
      "15/15 [==============================] - 3s 220ms/step - loss: 7.3255e-04 - val_loss: 0.0016\n",
      "Epoch 63/100\n",
      "15/15 [==============================] - 3s 219ms/step - loss: 7.2128e-04 - val_loss: 0.0034\n",
      "Epoch 64/100\n",
      "15/15 [==============================] - 3s 221ms/step - loss: 7.7337e-04 - val_loss: 0.0013\n",
      "Epoch 65/100\n",
      "15/15 [==============================] - 3s 221ms/step - loss: 7.1265e-04 - val_loss: 0.0015\n",
      "Epoch 66/100\n",
      "15/15 [==============================] - 3s 220ms/step - loss: 7.0551e-04 - val_loss: 0.0019\n",
      "Epoch 67/100\n",
      "15/15 [==============================] - 3s 220ms/step - loss: 7.3928e-04 - val_loss: 0.0033\n",
      "Epoch 68/100\n",
      "15/15 [==============================] - 3s 219ms/step - loss: 7.1881e-04 - val_loss: 0.0012\n",
      "Epoch 69/100\n",
      "15/15 [==============================] - 3s 219ms/step - loss: 6.7258e-04 - val_loss: 0.0026\n",
      "Epoch 70/100\n",
      "15/15 [==============================] - 3s 220ms/step - loss: 6.9548e-04 - val_loss: 0.0014\n",
      "Epoch 71/100\n",
      "15/15 [==============================] - 3s 220ms/step - loss: 6.8407e-04 - val_loss: 0.0016\n",
      "Epoch 72/100\n",
      "15/15 [==============================] - 3s 220ms/step - loss: 7.8564e-04 - val_loss: 0.0011\n",
      "Epoch 73/100\n",
      "15/15 [==============================] - 3s 221ms/step - loss: 7.3191e-04 - val_loss: 0.0014\n",
      "Epoch 74/100\n",
      "15/15 [==============================] - 3s 220ms/step - loss: 7.0329e-04 - val_loss: 0.0011\n",
      "Epoch 75/100\n",
      "15/15 [==============================] - 3s 222ms/step - loss: 7.1562e-04 - val_loss: 0.0020\n",
      "Epoch 76/100\n",
      "15/15 [==============================] - 3s 221ms/step - loss: 7.4657e-04 - val_loss: 0.0011\n",
      "Epoch 77/100\n",
      "15/15 [==============================] - 3s 218ms/step - loss: 6.6988e-04 - val_loss: 0.0015\n",
      "Epoch 78/100\n",
      "15/15 [==============================] - 3s 219ms/step - loss: 6.5770e-04 - val_loss: 0.0015\n",
      "Epoch 79/100\n"
     ]
    },
    {
     "name": "stdout",
     "output_type": "stream",
     "text": [
      "15/15 [==============================] - 3s 223ms/step - loss: 6.5485e-04 - val_loss: 0.0011\n",
      "Epoch 80/100\n",
      "15/15 [==============================] - 3s 224ms/step - loss: 6.5180e-04 - val_loss: 0.0011\n",
      "Epoch 81/100\n",
      "15/15 [==============================] - 3s 224ms/step - loss: 6.4558e-04 - val_loss: 0.0011\n",
      "Epoch 82/100\n",
      "15/15 [==============================] - 3s 224ms/step - loss: 6.4308e-04 - val_loss: 0.0011\n",
      "Epoch 83/100\n",
      "15/15 [==============================] - 3s 224ms/step - loss: 6.6256e-04 - val_loss: 0.0016\n",
      "Epoch 84/100\n",
      "15/15 [==============================] - 3s 224ms/step - loss: 6.6222e-04 - val_loss: 0.0014\n",
      "Epoch 85/100\n",
      "15/15 [==============================] - 3s 224ms/step - loss: 6.7661e-04 - val_loss: 9.3180e-04\n",
      "Epoch 86/100\n",
      "15/15 [==============================] - 3s 224ms/step - loss: 6.6958e-04 - val_loss: 9.5891e-04\n",
      "Epoch 87/100\n",
      "15/15 [==============================] - 3s 221ms/step - loss: 7.2287e-04 - val_loss: 0.0013\n",
      "Epoch 88/100\n",
      "15/15 [==============================] - 3s 223ms/step - loss: 6.6921e-04 - val_loss: 0.0011\n",
      "Epoch 89/100\n",
      "15/15 [==============================] - 3s 223ms/step - loss: 6.4756e-04 - val_loss: 0.0010\n",
      "Epoch 90/100\n",
      "15/15 [==============================] - 3s 223ms/step - loss: 6.1098e-04 - val_loss: 8.8191e-04\n",
      "Epoch 91/100\n",
      "15/15 [==============================] - 3s 214ms/step - loss: 6.4654e-04 - val_loss: 9.8304e-04\n",
      "Epoch 92/100\n",
      "15/15 [==============================] - 3s 212ms/step - loss: 6.3735e-04 - val_loss: 0.0020\n",
      "Epoch 93/100\n",
      "15/15 [==============================] - 3s 216ms/step - loss: 6.2734e-04 - val_loss: 0.0013\n",
      "Epoch 94/100\n",
      "15/15 [==============================] - 3s 222ms/step - loss: 6.1549e-04 - val_loss: 0.0021\n",
      "Epoch 95/100\n",
      "15/15 [==============================] - 3s 222ms/step - loss: 7.9898e-04 - val_loss: 7.8430e-04\n",
      "Epoch 96/100\n",
      "15/15 [==============================] - 3s 219ms/step - loss: 6.3578e-04 - val_loss: 7.6443e-04\n",
      "Epoch 97/100\n",
      "15/15 [==============================] - 3s 221ms/step - loss: 5.8579e-04 - val_loss: 7.9866e-04\n",
      "Epoch 98/100\n",
      "15/15 [==============================] - 3s 220ms/step - loss: 6.2228e-04 - val_loss: 9.7694e-04\n",
      "Epoch 99/100\n",
      "15/15 [==============================] - 3s 213ms/step - loss: 6.2691e-04 - val_loss: 0.0039\n",
      "Epoch 100/100\n",
      "15/15 [==============================] - 3s 207ms/step - loss: 7.5181e-04 - val_loss: 7.6126e-04\n"
     ]
    },
    {
     "data": {
      "text/plain": [
       "<keras.callbacks.History at 0x2b4feadaeb0>"
      ]
     },
     "execution_count": 22,
     "metadata": {},
     "output_type": "execute_result"
    }
   ],
   "source": [
    "model.fit(X_train, y_train, validation_data=(X_test,y_test), epochs=100, batch_size=64,verbose=1)"
   ]
  },
  {
   "cell_type": "code",
   "execution_count": 32,
   "id": "e40b6fbc",
   "metadata": {},
   "outputs": [],
   "source": [
    "# lets Do the prediction and chekc performance metrics\n",
    "train_predict=model.predict(X_train)\n",
    "test_predict=model.predict(X_test)"
   ]
  },
  {
   "cell_type": "code",
   "execution_count": 25,
   "id": "1cd4199b",
   "metadata": {},
   "outputs": [],
   "source": [
    "# tranformback to original form \n",
    "train_predict=scaler.inverse_transform(train_predict)\n",
    "test_predict=scaler.inverse_transform(test_predict)"
   ]
  },
  {
   "cell_type": "code",
   "execution_count": 26,
   "id": "0fc8b116",
   "metadata": {},
   "outputs": [
    {
     "data": {
      "text/plain": [
       "105.64553244709708"
      ]
     },
     "execution_count": 26,
     "metadata": {},
     "output_type": "execute_result"
    }
   ],
   "source": [
    "# Calcualte RMSE performance metrics\n",
    "import math\n",
    "from sklearn.metrics import mean_squared_error\n",
    "math.sqrt(mean_squared_error(y_train,train_predict))"
   ]
  },
  {
   "cell_type": "code",
   "execution_count": 27,
   "id": "9d8b201b",
   "metadata": {},
   "outputs": [
    {
     "data": {
      "text/plain": [
       "151.37479264897442"
      ]
     },
     "execution_count": 27,
     "metadata": {},
     "output_type": "execute_result"
    }
   ],
   "source": [
    "# Test Data RMSE\n",
    "math.sqrt(mean_squared_error(y_test,test_predict))"
   ]
  },
  {
   "cell_type": "code",
   "execution_count": 28,
   "id": "a5347e3b",
   "metadata": {},
   "outputs": [
    {
     "data": {
      "image/png": "[encoded data removed]",
      "text/plain": [
       "<Figure size 432x288 with 1 Axes>"
      ]
     },
     "metadata": {
      "needs_background": "light"
     },
     "output_type": "display_data"
    }
   ],
   "source": [
    "## plotting \n",
    "#shift train prediction for plotting\n",
    "look_back=100\n",
    "trainPredictPlot =np.empty_like(df1)\n",
    "trainPredictPlot[:, :] =np.nan\n",
    "trainPredictPlot[look_back:len(train_predict)+look_back, :] =train_predict\n",
    "\n",
    "# shift test predictions forplotting\n",
    "testPredictPlot = np.empty_like(df1)\n",
    "testPredictPlot[:, :] =np.nan\n",
    "testPredictPlot[len(train_predict)+(look_back*2)+1:len(df1)-1,:] =test_predict\n",
    "\n",
    "#plot baseline and predictions\n",
    "\n",
    "plt.plot(scaler.inverse_transform(df1))\n",
    "plt.plot(trainPredictPlot)\n",
    "plt.plot(testPredictPlot)\n",
    "plt.show()\n"
   ]
  },
  {
   "cell_type": "code",
   "execution_count": 29,
   "id": "67dff03e",
   "metadata": {},
   "outputs": [
    {
     "data": {
      "text/plain": [
       "252"
      ]
     },
     "execution_count": 29,
     "metadata": {},
     "output_type": "execute_result"
    }
   ],
   "source": [
    "len(test_data)"
   ]
  },
  {
   "cell_type": "code",
   "execution_count": 35,
   "id": "c0310e06",
   "metadata": {},
   "outputs": [],
   "source": [
    "x_input = test_data[152:].reshape(1, -1)"
   ]
  },
  {
   "cell_type": "code",
   "execution_count": 36,
   "id": "925130a2",
   "metadata": {},
   "outputs": [
    {
     "data": {
      "text/plain": [
       "(1, 100)"
      ]
     },
     "execution_count": 36,
     "metadata": {},
     "output_type": "execute_result"
    }
   ],
   "source": [
    "x_input.shape"
   ]
  },
  {
   "cell_type": "code",
   "execution_count": 37,
   "id": "58e4f893",
   "metadata": {},
   "outputs": [],
   "source": [
    "temp_input = list(x_input)\n",
    "temp_input = temp_input[0].tolist()"
   ]
  },
  {
   "cell_type": "code",
   "execution_count": 38,
   "id": "4e257279",
   "metadata": {},
   "outputs": [
    {
     "name": "stdout",
     "output_type": "stream",
     "text": [
      "[0.8952971]\n",
      "101\n",
      "1 day input [0.86208949 0.88580216 0.88768727 0.89919635 0.89592221 0.877468\n",
      " 0.84889374 0.85841849 0.86962992 0.86318087 0.8296458  0.84224625\n",
      " 0.81079472 0.83877369 0.84244469 0.8492906  0.85901379 0.88838178\n",
      " 0.87468995 0.87022522 0.89125905 0.91149916 0.94295069 0.94840758\n",
      " 0.94820915 0.92161921 0.91080464 0.9509872  0.97589047 0.98243873\n",
      " 0.95942058 0.94711777 0.94433972 0.96249628 0.9712273  0.95445977\n",
      " 0.95426134 0.97926382 0.97817244 0.99613057 0.99622978 0.99732116\n",
      " 1.         0.99226114 0.98571287 0.96527433 0.94007342 0.93898204\n",
      " 0.91199524 0.88828257 0.89909713 0.85435063 0.81625161 0.84115488\n",
      " 0.83897212 0.84800079 0.86179184 0.87707114 0.87984919 0.87796408\n",
      " 0.89185435 0.90713364 0.89671594 0.8707213  0.87250719 0.8462149\n",
      " 0.89413632 0.91626153 0.89294573 0.88768727 0.89106062 0.85583887\n",
      " 0.80682607 0.83401131 0.86526441 0.84611569 0.84323842 0.85325925\n",
      " 0.85127493 0.85375533 0.86665344 0.85454906 0.84849687 0.86556206\n",
      " 0.84919139 0.86814168 0.91130072 0.90961405 0.92876277 0.94761385\n",
      " 0.95386447 0.93590634 0.92548864 0.90643913 0.89225122 0.87935311\n",
      " 0.88371862 0.90336343 0.9129874  0.89529711]\n",
      "1 day output [[0.8971714]]\n",
      "2 day input [0.88580216 0.88768727 0.89919635 0.89592221 0.877468   0.84889374\n",
      " 0.85841849 0.86962992 0.86318087 0.8296458  0.84224625 0.81079472\n",
      " 0.83877369 0.84244469 0.8492906  0.85901379 0.88838178 0.87468995\n",
      " 0.87022522 0.89125905 0.91149916 0.94295069 0.94840758 0.94820915\n",
      " 0.92161921 0.91080464 0.9509872  0.97589047 0.98243873 0.95942058\n",
      " 0.94711777 0.94433972 0.96249628 0.9712273  0.95445977 0.95426134\n",
      " 0.97926382 0.97817244 0.99613057 0.99622978 0.99732116 1.\n",
      " 0.99226114 0.98571287 0.96527433 0.94007342 0.93898204 0.91199524\n",
      " 0.88828257 0.89909713 0.85435063 0.81625161 0.84115488 0.83897212\n",
      " 0.84800079 0.86179184 0.87707114 0.87984919 0.87796408 0.89185435\n",
      " 0.90713364 0.89671594 0.8707213  0.87250719 0.8462149  0.89413632\n",
      " 0.91626153 0.89294573 0.88768727 0.89106062 0.85583887 0.80682607\n",
      " 0.83401131 0.86526441 0.84611569 0.84323842 0.85325925 0.85127493\n",
      " 0.85375533 0.86665344 0.85454906 0.84849687 0.86556206 0.84919139\n",
      " 0.86814168 0.91130072 0.90961405 0.92876277 0.94761385 0.95386447\n",
      " 0.93590634 0.92548864 0.90643913 0.89225122 0.87935311 0.88371862\n",
      " 0.90336343 0.9129874  0.89529711 0.89717138]\n",
      "2 day output [[0.89560455]]\n",
      "3 day input [0.88768727 0.89919635 0.89592221 0.877468   0.84889374 0.85841849\n",
      " 0.86962992 0.86318087 0.8296458  0.84224625 0.81079472 0.83877369\n",
      " 0.84244469 0.8492906  0.85901379 0.88838178 0.87468995 0.87022522\n",
      " 0.89125905 0.91149916 0.94295069 0.94840758 0.94820915 0.92161921\n",
      " 0.91080464 0.9509872  0.97589047 0.98243873 0.95942058 0.94711777\n",
      " 0.94433972 0.96249628 0.9712273  0.95445977 0.95426134 0.97926382\n",
      " 0.97817244 0.99613057 0.99622978 0.99732116 1.         0.99226114\n",
      " 0.98571287 0.96527433 0.94007342 0.93898204 0.91199524 0.88828257\n",
      " 0.89909713 0.85435063 0.81625161 0.84115488 0.83897212 0.84800079\n",
      " 0.86179184 0.87707114 0.87984919 0.87796408 0.89185435 0.90713364\n",
      " 0.89671594 0.8707213  0.87250719 0.8462149  0.89413632 0.91626153\n",
      " 0.89294573 0.88768727 0.89106062 0.85583887 0.80682607 0.83401131\n",
      " 0.86526441 0.84611569 0.84323842 0.85325925 0.85127493 0.85375533\n",
      " 0.86665344 0.85454906 0.84849687 0.86556206 0.84919139 0.86814168\n",
      " 0.91130072 0.90961405 0.92876277 0.94761385 0.95386447 0.93590634\n",
      " 0.92548864 0.90643913 0.89225122 0.87935311 0.88371862 0.90336343\n",
      " 0.9129874  0.89529711 0.89717138 0.89560455]\n",
      "3 day output [[0.89328265]]\n",
      "4 day input [0.89919635 0.89592221 0.877468   0.84889374 0.85841849 0.86962992\n",
      " 0.86318087 0.8296458  0.84224625 0.81079472 0.83877369 0.84244469\n",
      " 0.8492906  0.85901379 0.88838178 0.87468995 0.87022522 0.89125905\n",
      " 0.91149916 0.94295069 0.94840758 0.94820915 0.92161921 0.91080464\n",
      " 0.9509872  0.97589047 0.98243873 0.95942058 0.94711777 0.94433972\n",
      " 0.96249628 0.9712273  0.95445977 0.95426134 0.97926382 0.97817244\n",
      " 0.99613057 0.99622978 0.99732116 1.         0.99226114 0.98571287\n",
      " 0.96527433 0.94007342 0.93898204 0.91199524 0.88828257 0.89909713\n",
      " 0.85435063 0.81625161 0.84115488 0.83897212 0.84800079 0.86179184\n",
      " 0.87707114 0.87984919 0.87796408 0.89185435 0.90713364 0.89671594\n",
      " 0.8707213  0.87250719 0.8462149  0.89413632 0.91626153 0.89294573\n",
      " 0.88768727 0.89106062 0.85583887 0.80682607 0.83401131 0.86526441\n",
      " 0.84611569 0.84323842 0.85325925 0.85127493 0.85375533 0.86665344\n",
      " 0.85454906 0.84849687 0.86556206 0.84919139 0.86814168 0.91130072\n",
      " 0.90961405 0.92876277 0.94761385 0.95386447 0.93590634 0.92548864\n",
      " 0.90643913 0.89225122 0.87935311 0.88371862 0.90336343 0.9129874\n",
      " 0.89529711 0.89717138 0.89560455 0.89328265]\n",
      "4 day output [[0.89084476]]\n",
      "5 day input [0.89592221 0.877468   0.84889374 0.85841849 0.86962992 0.86318087\n",
      " 0.8296458  0.84224625 0.81079472 0.83877369 0.84244469 0.8492906\n",
      " 0.85901379 0.88838178 0.87468995 0.87022522 0.89125905 0.91149916\n",
      " 0.94295069 0.94840758 0.94820915 0.92161921 0.91080464 0.9509872\n",
      " 0.97589047 0.98243873 0.95942058 0.94711777 0.94433972 0.96249628\n",
      " 0.9712273  0.95445977 0.95426134 0.97926382 0.97817244 0.99613057\n",
      " 0.99622978 0.99732116 1.         0.99226114 0.98571287 0.96527433\n",
      " 0.94007342 0.93898204 0.91199524 0.88828257 0.89909713 0.85435063\n",
      " 0.81625161 0.84115488 0.83897212 0.84800079 0.86179184 0.87707114\n",
      " 0.87984919 0.87796408 0.89185435 0.90713364 0.89671594 0.8707213\n",
      " 0.87250719 0.8462149  0.89413632 0.91626153 0.89294573 0.88768727\n",
      " 0.89106062 0.85583887 0.80682607 0.83401131 0.86526441 0.84611569\n",
      " 0.84323842 0.85325925 0.85127493 0.85375533 0.86665344 0.85454906\n",
      " 0.84849687 0.86556206 0.84919139 0.86814168 0.91130072 0.90961405\n",
      " 0.92876277 0.94761385 0.95386447 0.93590634 0.92548864 0.90643913\n",
      " 0.89225122 0.87935311 0.88371862 0.90336343 0.9129874  0.89529711\n",
      " 0.89717138 0.89560455 0.89328265 0.89084476]\n",
      "5 day output [[0.88835204]]\n",
      "6 day input [0.877468   0.84889374 0.85841849 0.86962992 0.86318087 0.8296458\n",
      " 0.84224625 0.81079472 0.83877369 0.84244469 0.8492906  0.85901379\n",
      " 0.88838178 0.87468995 0.87022522 0.89125905 0.91149916 0.94295069\n",
      " 0.94840758 0.94820915 0.92161921 0.91080464 0.9509872  0.97589047\n",
      " 0.98243873 0.95942058 0.94711777 0.94433972 0.96249628 0.9712273\n",
      " 0.95445977 0.95426134 0.97926382 0.97817244 0.99613057 0.99622978\n",
      " 0.99732116 1.         0.99226114 0.98571287 0.96527433 0.94007342\n",
      " 0.93898204 0.91199524 0.88828257 0.89909713 0.85435063 0.81625161\n",
      " 0.84115488 0.83897212 0.84800079 0.86179184 0.87707114 0.87984919\n",
      " 0.87796408 0.89185435 0.90713364 0.89671594 0.8707213  0.87250719\n",
      " 0.8462149  0.89413632 0.91626153 0.89294573 0.88768727 0.89106062\n",
      " 0.85583887 0.80682607 0.83401131 0.86526441 0.84611569 0.84323842\n",
      " 0.85325925 0.85127493 0.85375533 0.86665344 0.85454906 0.84849687\n",
      " 0.86556206 0.84919139 0.86814168 0.91130072 0.90961405 0.92876277\n",
      " 0.94761385 0.95386447 0.93590634 0.92548864 0.90643913 0.89225122\n",
      " 0.87935311 0.88371862 0.90336343 0.9129874  0.89529711 0.89717138\n",
      " 0.89560455 0.89328265 0.89084476 0.88835204]\n",
      "6 day output [[0.8857673]]\n",
      "7 day input [0.84889374 0.85841849 0.86962992 0.86318087 0.8296458  0.84224625\n",
      " 0.81079472 0.83877369 0.84244469 0.8492906  0.85901379 0.88838178\n",
      " 0.87468995 0.87022522 0.89125905 0.91149916 0.94295069 0.94840758\n",
      " 0.94820915 0.92161921 0.91080464 0.9509872  0.97589047 0.98243873\n",
      " 0.95942058 0.94711777 0.94433972 0.96249628 0.9712273  0.95445977\n",
      " 0.95426134 0.97926382 0.97817244 0.99613057 0.99622978 0.99732116\n",
      " 1.         0.99226114 0.98571287 0.96527433 0.94007342 0.93898204\n",
      " 0.91199524 0.88828257 0.89909713 0.85435063 0.81625161 0.84115488\n",
      " 0.83897212 0.84800079 0.86179184 0.87707114 0.87984919 0.87796408\n",
      " 0.89185435 0.90713364 0.89671594 0.8707213  0.87250719 0.8462149\n",
      " 0.89413632 0.91626153 0.89294573 0.88768727 0.89106062 0.85583887\n",
      " 0.80682607 0.83401131 0.86526441 0.84611569 0.84323842 0.85325925\n",
      " 0.85127493 0.85375533 0.86665344 0.85454906 0.84849687 0.86556206\n",
      " 0.84919139 0.86814168 0.91130072 0.90961405 0.92876277 0.94761385\n",
      " 0.95386447 0.93590634 0.92548864 0.90643913 0.89225122 0.87935311\n",
      " 0.88371862 0.90336343 0.9129874  0.89529711 0.89717138 0.89560455\n",
      " 0.89328265 0.89084476 0.88835204 0.88576728]\n",
      "7 day output [[0.8830549]]\n",
      "8 day input [0.85841849 0.86962992 0.86318087 0.8296458  0.84224625 0.81079472\n",
      " 0.83877369 0.84244469 0.8492906  0.85901379 0.88838178 0.87468995\n",
      " 0.87022522 0.89125905 0.91149916 0.94295069 0.94840758 0.94820915\n",
      " 0.92161921 0.91080464 0.9509872  0.97589047 0.98243873 0.95942058\n",
      " 0.94711777 0.94433972 0.96249628 0.9712273  0.95445977 0.95426134\n",
      " 0.97926382 0.97817244 0.99613057 0.99622978 0.99732116 1.\n",
      " 0.99226114 0.98571287 0.96527433 0.94007342 0.93898204 0.91199524\n",
      " 0.88828257 0.89909713 0.85435063 0.81625161 0.84115488 0.83897212\n",
      " 0.84800079 0.86179184 0.87707114 0.87984919 0.87796408 0.89185435\n",
      " 0.90713364 0.89671594 0.8707213  0.87250719 0.8462149  0.89413632\n",
      " 0.91626153 0.89294573 0.88768727 0.89106062 0.85583887 0.80682607\n",
      " 0.83401131 0.86526441 0.84611569 0.84323842 0.85325925 0.85127493\n",
      " 0.85375533 0.86665344 0.85454906 0.84849687 0.86556206 0.84919139\n",
      " 0.86814168 0.91130072 0.90961405 0.92876277 0.94761385 0.95386447\n",
      " 0.93590634 0.92548864 0.90643913 0.89225122 0.87935311 0.88371862\n",
      " 0.90336343 0.9129874  0.89529711 0.89717138 0.89560455 0.89328265\n",
      " 0.89084476 0.88835204 0.88576728 0.88305491]\n",
      "8 day output [[0.8801873]]\n",
      "9 day input [0.86962992 0.86318087 0.8296458  0.84224625 0.81079472 0.83877369\n",
      " 0.84244469 0.8492906  0.85901379 0.88838178 0.87468995 0.87022522\n",
      " 0.89125905 0.91149916 0.94295069 0.94840758 0.94820915 0.92161921\n",
      " 0.91080464 0.9509872  0.97589047 0.98243873 0.95942058 0.94711777\n",
      " 0.94433972 0.96249628 0.9712273  0.95445977 0.95426134 0.97926382\n",
      " 0.97817244 0.99613057 0.99622978 0.99732116 1.         0.99226114\n",
      " 0.98571287 0.96527433 0.94007342 0.93898204 0.91199524 0.88828257\n",
      " 0.89909713 0.85435063 0.81625161 0.84115488 0.83897212 0.84800079\n",
      " 0.86179184 0.87707114 0.87984919 0.87796408 0.89185435 0.90713364\n",
      " 0.89671594 0.8707213  0.87250719 0.8462149  0.89413632 0.91626153\n",
      " 0.89294573 0.88768727 0.89106062 0.85583887 0.80682607 0.83401131\n",
      " 0.86526441 0.84611569 0.84323842 0.85325925 0.85127493 0.85375533\n",
      " 0.86665344 0.85454906 0.84849687 0.86556206 0.84919139 0.86814168\n",
      " 0.91130072 0.90961405 0.92876277 0.94761385 0.95386447 0.93590634\n",
      " 0.92548864 0.90643913 0.89225122 0.87935311 0.88371862 0.90336343\n",
      " 0.9129874  0.89529711 0.89717138 0.89560455 0.89328265 0.89084476\n",
      " 0.88835204 0.88576728 0.88305491 0.88018727]\n"
     ]
    },
    {
     "name": "stdout",
     "output_type": "stream",
     "text": [
      "9 day output [[0.8771396]]\n",
      "10 day input [0.86318087 0.8296458  0.84224625 0.81079472 0.83877369 0.84244469\n",
      " 0.8492906  0.85901379 0.88838178 0.87468995 0.87022522 0.89125905\n",
      " 0.91149916 0.94295069 0.94840758 0.94820915 0.92161921 0.91080464\n",
      " 0.9509872  0.97589047 0.98243873 0.95942058 0.94711777 0.94433972\n",
      " 0.96249628 0.9712273  0.95445977 0.95426134 0.97926382 0.97817244\n",
      " 0.99613057 0.99622978 0.99732116 1.         0.99226114 0.98571287\n",
      " 0.96527433 0.94007342 0.93898204 0.91199524 0.88828257 0.89909713\n",
      " 0.85435063 0.81625161 0.84115488 0.83897212 0.84800079 0.86179184\n",
      " 0.87707114 0.87984919 0.87796408 0.89185435 0.90713364 0.89671594\n",
      " 0.8707213  0.87250719 0.8462149  0.89413632 0.91626153 0.89294573\n",
      " 0.88768727 0.89106062 0.85583887 0.80682607 0.83401131 0.86526441\n",
      " 0.84611569 0.84323842 0.85325925 0.85127493 0.85375533 0.86665344\n",
      " 0.85454906 0.84849687 0.86556206 0.84919139 0.86814168 0.91130072\n",
      " 0.90961405 0.92876277 0.94761385 0.95386447 0.93590634 0.92548864\n",
      " 0.90643913 0.89225122 0.87935311 0.88371862 0.90336343 0.9129874\n",
      " 0.89529711 0.89717138 0.89560455 0.89328265 0.89084476 0.88835204\n",
      " 0.88576728 0.88305491 0.88018727 0.87713963]\n",
      "10 day output [[0.8738884]]\n",
      "11 day input [0.8296458  0.84224625 0.81079472 0.83877369 0.84244469 0.8492906\n",
      " 0.85901379 0.88838178 0.87468995 0.87022522 0.89125905 0.91149916\n",
      " 0.94295069 0.94840758 0.94820915 0.92161921 0.91080464 0.9509872\n",
      " 0.97589047 0.98243873 0.95942058 0.94711777 0.94433972 0.96249628\n",
      " 0.9712273  0.95445977 0.95426134 0.97926382 0.97817244 0.99613057\n",
      " 0.99622978 0.99732116 1.         0.99226114 0.98571287 0.96527433\n",
      " 0.94007342 0.93898204 0.91199524 0.88828257 0.89909713 0.85435063\n",
      " 0.81625161 0.84115488 0.83897212 0.84800079 0.86179184 0.87707114\n",
      " 0.87984919 0.87796408 0.89185435 0.90713364 0.89671594 0.8707213\n",
      " 0.87250719 0.8462149  0.89413632 0.91626153 0.89294573 0.88768727\n",
      " 0.89106062 0.85583887 0.80682607 0.83401131 0.86526441 0.84611569\n",
      " 0.84323842 0.85325925 0.85127493 0.85375533 0.86665344 0.85454906\n",
      " 0.84849687 0.86556206 0.84919139 0.86814168 0.91130072 0.90961405\n",
      " 0.92876277 0.94761385 0.95386447 0.93590634 0.92548864 0.90643913\n",
      " 0.89225122 0.87935311 0.88371862 0.90336343 0.9129874  0.89529711\n",
      " 0.89717138 0.89560455 0.89328265 0.89084476 0.88835204 0.88576728\n",
      " 0.88305491 0.88018727 0.87713963 0.87388837]\n",
      "11 day output [[0.87040913]]\n",
      "12 day input [0.84224625 0.81079472 0.83877369 0.84244469 0.8492906  0.85901379\n",
      " 0.88838178 0.87468995 0.87022522 0.89125905 0.91149916 0.94295069\n",
      " 0.94840758 0.94820915 0.92161921 0.91080464 0.9509872  0.97589047\n",
      " 0.98243873 0.95942058 0.94711777 0.94433972 0.96249628 0.9712273\n",
      " 0.95445977 0.95426134 0.97926382 0.97817244 0.99613057 0.99622978\n",
      " 0.99732116 1.         0.99226114 0.98571287 0.96527433 0.94007342\n",
      " 0.93898204 0.91199524 0.88828257 0.89909713 0.85435063 0.81625161\n",
      " 0.84115488 0.83897212 0.84800079 0.86179184 0.87707114 0.87984919\n",
      " 0.87796408 0.89185435 0.90713364 0.89671594 0.8707213  0.87250719\n",
      " 0.8462149  0.89413632 0.91626153 0.89294573 0.88768727 0.89106062\n",
      " 0.85583887 0.80682607 0.83401131 0.86526441 0.84611569 0.84323842\n",
      " 0.85325925 0.85127493 0.85375533 0.86665344 0.85454906 0.84849687\n",
      " 0.86556206 0.84919139 0.86814168 0.91130072 0.90961405 0.92876277\n",
      " 0.94761385 0.95386447 0.93590634 0.92548864 0.90643913 0.89225122\n",
      " 0.87935311 0.88371862 0.90336343 0.9129874  0.89529711 0.89717138\n",
      " 0.89560455 0.89328265 0.89084476 0.88835204 0.88576728 0.88305491\n",
      " 0.88018727 0.87713963 0.87388837 0.87040913]\n",
      "12 day output [[0.86667705]]\n",
      "13 day input [0.81079472 0.83877369 0.84244469 0.8492906  0.85901379 0.88838178\n",
      " 0.87468995 0.87022522 0.89125905 0.91149916 0.94295069 0.94840758\n",
      " 0.94820915 0.92161921 0.91080464 0.9509872  0.97589047 0.98243873\n",
      " 0.95942058 0.94711777 0.94433972 0.96249628 0.9712273  0.95445977\n",
      " 0.95426134 0.97926382 0.97817244 0.99613057 0.99622978 0.99732116\n",
      " 1.         0.99226114 0.98571287 0.96527433 0.94007342 0.93898204\n",
      " 0.91199524 0.88828257 0.89909713 0.85435063 0.81625161 0.84115488\n",
      " 0.83897212 0.84800079 0.86179184 0.87707114 0.87984919 0.87796408\n",
      " 0.89185435 0.90713364 0.89671594 0.8707213  0.87250719 0.8462149\n",
      " 0.89413632 0.91626153 0.89294573 0.88768727 0.89106062 0.85583887\n",
      " 0.80682607 0.83401131 0.86526441 0.84611569 0.84323842 0.85325925\n",
      " 0.85127493 0.85375533 0.86665344 0.85454906 0.84849687 0.86556206\n",
      " 0.84919139 0.86814168 0.91130072 0.90961405 0.92876277 0.94761385\n",
      " 0.95386447 0.93590634 0.92548864 0.90643913 0.89225122 0.87935311\n",
      " 0.88371862 0.90336343 0.9129874  0.89529711 0.89717138 0.89560455\n",
      " 0.89328265 0.89084476 0.88835204 0.88576728 0.88305491 0.88018727\n",
      " 0.87713963 0.87388837 0.87040913 0.86667705]\n",
      "13 day output [[0.862666]]\n",
      "14 day input [0.83877369 0.84244469 0.8492906  0.85901379 0.88838178 0.87468995\n",
      " 0.87022522 0.89125905 0.91149916 0.94295069 0.94840758 0.94820915\n",
      " 0.92161921 0.91080464 0.9509872  0.97589047 0.98243873 0.95942058\n",
      " 0.94711777 0.94433972 0.96249628 0.9712273  0.95445977 0.95426134\n",
      " 0.97926382 0.97817244 0.99613057 0.99622978 0.99732116 1.\n",
      " 0.99226114 0.98571287 0.96527433 0.94007342 0.93898204 0.91199524\n",
      " 0.88828257 0.89909713 0.85435063 0.81625161 0.84115488 0.83897212\n",
      " 0.84800079 0.86179184 0.87707114 0.87984919 0.87796408 0.89185435\n",
      " 0.90713364 0.89671594 0.8707213  0.87250719 0.8462149  0.89413632\n",
      " 0.91626153 0.89294573 0.88768727 0.89106062 0.85583887 0.80682607\n",
      " 0.83401131 0.86526441 0.84611569 0.84323842 0.85325925 0.85127493\n",
      " 0.85375533 0.86665344 0.85454906 0.84849687 0.86556206 0.84919139\n",
      " 0.86814168 0.91130072 0.90961405 0.92876277 0.94761385 0.95386447\n",
      " 0.93590634 0.92548864 0.90643913 0.89225122 0.87935311 0.88371862\n",
      " 0.90336343 0.9129874  0.89529711 0.89717138 0.89560455 0.89328265\n",
      " 0.89084476 0.88835204 0.88576728 0.88305491 0.88018727 0.87713963\n",
      " 0.87388837 0.87040913 0.86667705 0.86266601]\n",
      "14 day output [[0.858348]]\n",
      "15 day input [0.84244469 0.8492906  0.85901379 0.88838178 0.87468995 0.87022522\n",
      " 0.89125905 0.91149916 0.94295069 0.94840758 0.94820915 0.92161921\n",
      " 0.91080464 0.9509872  0.97589047 0.98243873 0.95942058 0.94711777\n",
      " 0.94433972 0.96249628 0.9712273  0.95445977 0.95426134 0.97926382\n",
      " 0.97817244 0.99613057 0.99622978 0.99732116 1.         0.99226114\n",
      " 0.98571287 0.96527433 0.94007342 0.93898204 0.91199524 0.88828257\n",
      " 0.89909713 0.85435063 0.81625161 0.84115488 0.83897212 0.84800079\n",
      " 0.86179184 0.87707114 0.87984919 0.87796408 0.89185435 0.90713364\n",
      " 0.89671594 0.8707213  0.87250719 0.8462149  0.89413632 0.91626153\n",
      " 0.89294573 0.88768727 0.89106062 0.85583887 0.80682607 0.83401131\n",
      " 0.86526441 0.84611569 0.84323842 0.85325925 0.85127493 0.85375533\n",
      " 0.86665344 0.85454906 0.84849687 0.86556206 0.84919139 0.86814168\n",
      " 0.91130072 0.90961405 0.92876277 0.94761385 0.95386447 0.93590634\n",
      " 0.92548864 0.90643913 0.89225122 0.87935311 0.88371862 0.90336343\n",
      " 0.9129874  0.89529711 0.89717138 0.89560455 0.89328265 0.89084476\n",
      " 0.88835204 0.88576728 0.88305491 0.88018727 0.87713963 0.87388837\n",
      " 0.87040913 0.86667705 0.86266601 0.85834801]\n",
      "15 day output [[0.853695]]\n",
      "16 day input [0.8492906  0.85901379 0.88838178 0.87468995 0.87022522 0.89125905\n",
      " 0.91149916 0.94295069 0.94840758 0.94820915 0.92161921 0.91080464\n",
      " 0.9509872  0.97589047 0.98243873 0.95942058 0.94711777 0.94433972\n",
      " 0.96249628 0.9712273  0.95445977 0.95426134 0.97926382 0.97817244\n",
      " 0.99613057 0.99622978 0.99732116 1.         0.99226114 0.98571287\n",
      " 0.96527433 0.94007342 0.93898204 0.91199524 0.88828257 0.89909713\n",
      " 0.85435063 0.81625161 0.84115488 0.83897212 0.84800079 0.86179184\n",
      " 0.87707114 0.87984919 0.87796408 0.89185435 0.90713364 0.89671594\n",
      " 0.8707213  0.87250719 0.8462149  0.89413632 0.91626153 0.89294573\n",
      " 0.88768727 0.89106062 0.85583887 0.80682607 0.83401131 0.86526441\n",
      " 0.84611569 0.84323842 0.85325925 0.85127493 0.85375533 0.86665344\n",
      " 0.85454906 0.84849687 0.86556206 0.84919139 0.86814168 0.91130072\n",
      " 0.90961405 0.92876277 0.94761385 0.95386447 0.93590634 0.92548864\n",
      " 0.90643913 0.89225122 0.87935311 0.88371862 0.90336343 0.9129874\n",
      " 0.89529711 0.89717138 0.89560455 0.89328265 0.89084476 0.88835204\n",
      " 0.88576728 0.88305491 0.88018727 0.87713963 0.87388837 0.87040913\n",
      " 0.86667705 0.86266601 0.85834801 0.85369498]\n",
      "16 day output [[0.8486764]]\n",
      "17 day input [0.85901379 0.88838178 0.87468995 0.87022522 0.89125905 0.91149916\n",
      " 0.94295069 0.94840758 0.94820915 0.92161921 0.91080464 0.9509872\n",
      " 0.97589047 0.98243873 0.95942058 0.94711777 0.94433972 0.96249628\n",
      " 0.9712273  0.95445977 0.95426134 0.97926382 0.97817244 0.99613057\n",
      " 0.99622978 0.99732116 1.         0.99226114 0.98571287 0.96527433\n",
      " 0.94007342 0.93898204 0.91199524 0.88828257 0.89909713 0.85435063\n",
      " 0.81625161 0.84115488 0.83897212 0.84800079 0.86179184 0.87707114\n",
      " 0.87984919 0.87796408 0.89185435 0.90713364 0.89671594 0.8707213\n",
      " 0.87250719 0.8462149  0.89413632 0.91626153 0.89294573 0.88768727\n",
      " 0.89106062 0.85583887 0.80682607 0.83401131 0.86526441 0.84611569\n",
      " 0.84323842 0.85325925 0.85127493 0.85375533 0.86665344 0.85454906\n",
      " 0.84849687 0.86556206 0.84919139 0.86814168 0.91130072 0.90961405\n",
      " 0.92876277 0.94761385 0.95386447 0.93590634 0.92548864 0.90643913\n",
      " 0.89225122 0.87935311 0.88371862 0.90336343 0.9129874  0.89529711\n",
      " 0.89717138 0.89560455 0.89328265 0.89084476 0.88835204 0.88576728\n",
      " 0.88305491 0.88018727 0.87713963 0.87388837 0.87040913 0.86667705\n",
      " 0.86266601 0.85834801 0.85369498 0.84867638]\n"
     ]
    },
    {
     "name": "stdout",
     "output_type": "stream",
     "text": [
      "17 day output [[0.84325945]]\n",
      "18 day input [0.88838178 0.87468995 0.87022522 0.89125905 0.91149916 0.94295069\n",
      " 0.94840758 0.94820915 0.92161921 0.91080464 0.9509872  0.97589047\n",
      " 0.98243873 0.95942058 0.94711777 0.94433972 0.96249628 0.9712273\n",
      " 0.95445977 0.95426134 0.97926382 0.97817244 0.99613057 0.99622978\n",
      " 0.99732116 1.         0.99226114 0.98571287 0.96527433 0.94007342\n",
      " 0.93898204 0.91199524 0.88828257 0.89909713 0.85435063 0.81625161\n",
      " 0.84115488 0.83897212 0.84800079 0.86179184 0.87707114 0.87984919\n",
      " 0.87796408 0.89185435 0.90713364 0.89671594 0.8707213  0.87250719\n",
      " 0.8462149  0.89413632 0.91626153 0.89294573 0.88768727 0.89106062\n",
      " 0.85583887 0.80682607 0.83401131 0.86526441 0.84611569 0.84323842\n",
      " 0.85325925 0.85127493 0.85375533 0.86665344 0.85454906 0.84849687\n",
      " 0.86556206 0.84919139 0.86814168 0.91130072 0.90961405 0.92876277\n",
      " 0.94761385 0.95386447 0.93590634 0.92548864 0.90643913 0.89225122\n",
      " 0.87935311 0.88371862 0.90336343 0.9129874  0.89529711 0.89717138\n",
      " 0.89560455 0.89328265 0.89084476 0.88835204 0.88576728 0.88305491\n",
      " 0.88018727 0.87713963 0.87388837 0.87040913 0.86667705 0.86266601\n",
      " 0.85834801 0.85369498 0.84867638 0.84325945]\n",
      "18 day output [[0.83741057]]\n",
      "19 day input [0.87468995 0.87022522 0.89125905 0.91149916 0.94295069 0.94840758\n",
      " 0.94820915 0.92161921 0.91080464 0.9509872  0.97589047 0.98243873\n",
      " 0.95942058 0.94711777 0.94433972 0.96249628 0.9712273  0.95445977\n",
      " 0.95426134 0.97926382 0.97817244 0.99613057 0.99622978 0.99732116\n",
      " 1.         0.99226114 0.98571287 0.96527433 0.94007342 0.93898204\n",
      " 0.91199524 0.88828257 0.89909713 0.85435063 0.81625161 0.84115488\n",
      " 0.83897212 0.84800079 0.86179184 0.87707114 0.87984919 0.87796408\n",
      " 0.89185435 0.90713364 0.89671594 0.8707213  0.87250719 0.8462149\n",
      " 0.89413632 0.91626153 0.89294573 0.88768727 0.89106062 0.85583887\n",
      " 0.80682607 0.83401131 0.86526441 0.84611569 0.84323842 0.85325925\n",
      " 0.85127493 0.85375533 0.86665344 0.85454906 0.84849687 0.86556206\n",
      " 0.84919139 0.86814168 0.91130072 0.90961405 0.92876277 0.94761385\n",
      " 0.95386447 0.93590634 0.92548864 0.90643913 0.89225122 0.87935311\n",
      " 0.88371862 0.90336343 0.9129874  0.89529711 0.89717138 0.89560455\n",
      " 0.89328265 0.89084476 0.88835204 0.88576728 0.88305491 0.88018727\n",
      " 0.87713963 0.87388837 0.87040913 0.86667705 0.86266601 0.85834801\n",
      " 0.85369498 0.84867638 0.84325945 0.83741057]\n",
      "19 day output [[0.8310919]]\n",
      "20 day input [0.87022522 0.89125905 0.91149916 0.94295069 0.94840758 0.94820915\n",
      " 0.92161921 0.91080464 0.9509872  0.97589047 0.98243873 0.95942058\n",
      " 0.94711777 0.94433972 0.96249628 0.9712273  0.95445977 0.95426134\n",
      " 0.97926382 0.97817244 0.99613057 0.99622978 0.99732116 1.\n",
      " 0.99226114 0.98571287 0.96527433 0.94007342 0.93898204 0.91199524\n",
      " 0.88828257 0.89909713 0.85435063 0.81625161 0.84115488 0.83897212\n",
      " 0.84800079 0.86179184 0.87707114 0.87984919 0.87796408 0.89185435\n",
      " 0.90713364 0.89671594 0.8707213  0.87250719 0.8462149  0.89413632\n",
      " 0.91626153 0.89294573 0.88768727 0.89106062 0.85583887 0.80682607\n",
      " 0.83401131 0.86526441 0.84611569 0.84323842 0.85325925 0.85127493\n",
      " 0.85375533 0.86665344 0.85454906 0.84849687 0.86556206 0.84919139\n",
      " 0.86814168 0.91130072 0.90961405 0.92876277 0.94761385 0.95386447\n",
      " 0.93590634 0.92548864 0.90643913 0.89225122 0.87935311 0.88371862\n",
      " 0.90336343 0.9129874  0.89529711 0.89717138 0.89560455 0.89328265\n",
      " 0.89084476 0.88835204 0.88576728 0.88305491 0.88018727 0.87713963\n",
      " 0.87388837 0.87040913 0.86667705 0.86266601 0.85834801 0.85369498\n",
      " 0.84867638 0.84325945 0.83741057 0.83109188]\n",
      "20 day output [[0.8242631]]\n",
      "21 day input [0.89125905 0.91149916 0.94295069 0.94840758 0.94820915 0.92161921\n",
      " 0.91080464 0.9509872  0.97589047 0.98243873 0.95942058 0.94711777\n",
      " 0.94433972 0.96249628 0.9712273  0.95445977 0.95426134 0.97926382\n",
      " 0.97817244 0.99613057 0.99622978 0.99732116 1.         0.99226114\n",
      " 0.98571287 0.96527433 0.94007342 0.93898204 0.91199524 0.88828257\n",
      " 0.89909713 0.85435063 0.81625161 0.84115488 0.83897212 0.84800079\n",
      " 0.86179184 0.87707114 0.87984919 0.87796408 0.89185435 0.90713364\n",
      " 0.89671594 0.8707213  0.87250719 0.8462149  0.89413632 0.91626153\n",
      " 0.89294573 0.88768727 0.89106062 0.85583887 0.80682607 0.83401131\n",
      " 0.86526441 0.84611569 0.84323842 0.85325925 0.85127493 0.85375533\n",
      " 0.86665344 0.85454906 0.84849687 0.86556206 0.84919139 0.86814168\n",
      " 0.91130072 0.90961405 0.92876277 0.94761385 0.95386447 0.93590634\n",
      " 0.92548864 0.90643913 0.89225122 0.87935311 0.88371862 0.90336343\n",
      " 0.9129874  0.89529711 0.89717138 0.89560455 0.89328265 0.89084476\n",
      " 0.88835204 0.88576728 0.88305491 0.88018727 0.87713963 0.87388837\n",
      " 0.87040913 0.86667705 0.86266601 0.85834801 0.85369498 0.84867638\n",
      " 0.84325945 0.83741057 0.83109188 0.8242631 ]\n",
      "21 day output [[0.81688094]]\n",
      "22 day input [0.91149916 0.94295069 0.94840758 0.94820915 0.92161921 0.91080464\n",
      " 0.9509872  0.97589047 0.98243873 0.95942058 0.94711777 0.94433972\n",
      " 0.96249628 0.9712273  0.95445977 0.95426134 0.97926382 0.97817244\n",
      " 0.99613057 0.99622978 0.99732116 1.         0.99226114 0.98571287\n",
      " 0.96527433 0.94007342 0.93898204 0.91199524 0.88828257 0.89909713\n",
      " 0.85435063 0.81625161 0.84115488 0.83897212 0.84800079 0.86179184\n",
      " 0.87707114 0.87984919 0.87796408 0.89185435 0.90713364 0.89671594\n",
      " 0.8707213  0.87250719 0.8462149  0.89413632 0.91626153 0.89294573\n",
      " 0.88768727 0.89106062 0.85583887 0.80682607 0.83401131 0.86526441\n",
      " 0.84611569 0.84323842 0.85325925 0.85127493 0.85375533 0.86665344\n",
      " 0.85454906 0.84849687 0.86556206 0.84919139 0.86814168 0.91130072\n",
      " 0.90961405 0.92876277 0.94761385 0.95386447 0.93590634 0.92548864\n",
      " 0.90643913 0.89225122 0.87935311 0.88371862 0.90336343 0.9129874\n",
      " 0.89529711 0.89717138 0.89560455 0.89328265 0.89084476 0.88835204\n",
      " 0.88576728 0.88305491 0.88018727 0.87713963 0.87388837 0.87040913\n",
      " 0.86667705 0.86266601 0.85834801 0.85369498 0.84867638 0.84325945\n",
      " 0.83741057 0.83109188 0.8242631  0.81688094]\n",
      "22 day output [[0.80889714]]\n",
      "23 day input [0.94295069 0.94840758 0.94820915 0.92161921 0.91080464 0.9509872\n",
      " 0.97589047 0.98243873 0.95942058 0.94711777 0.94433972 0.96249628\n",
      " 0.9712273  0.95445977 0.95426134 0.97926382 0.97817244 0.99613057\n",
      " 0.99622978 0.99732116 1.         0.99226114 0.98571287 0.96527433\n",
      " 0.94007342 0.93898204 0.91199524 0.88828257 0.89909713 0.85435063\n",
      " 0.81625161 0.84115488 0.83897212 0.84800079 0.86179184 0.87707114\n",
      " 0.87984919 0.87796408 0.89185435 0.90713364 0.89671594 0.8707213\n",
      " 0.87250719 0.8462149  0.89413632 0.91626153 0.89294573 0.88768727\n",
      " 0.89106062 0.85583887 0.80682607 0.83401131 0.86526441 0.84611569\n",
      " 0.84323842 0.85325925 0.85127493 0.85375533 0.86665344 0.85454906\n",
      " 0.84849687 0.86556206 0.84919139 0.86814168 0.91130072 0.90961405\n",
      " 0.92876277 0.94761385 0.95386447 0.93590634 0.92548864 0.90643913\n",
      " 0.89225122 0.87935311 0.88371862 0.90336343 0.9129874  0.89529711\n",
      " 0.89717138 0.89560455 0.89328265 0.89084476 0.88835204 0.88576728\n",
      " 0.88305491 0.88018727 0.87713963 0.87388837 0.87040913 0.86667705\n",
      " 0.86266601 0.85834801 0.85369498 0.84867638 0.84325945 0.83741057\n",
      " 0.83109188 0.8242631  0.81688094 0.80889714]\n",
      "23 day output [[0.80025864]]\n",
      "24 day input [0.94840758 0.94820915 0.92161921 0.91080464 0.9509872  0.97589047\n",
      " 0.98243873 0.95942058 0.94711777 0.94433972 0.96249628 0.9712273\n",
      " 0.95445977 0.95426134 0.97926382 0.97817244 0.99613057 0.99622978\n",
      " 0.99732116 1.         0.99226114 0.98571287 0.96527433 0.94007342\n",
      " 0.93898204 0.91199524 0.88828257 0.89909713 0.85435063 0.81625161\n",
      " 0.84115488 0.83897212 0.84800079 0.86179184 0.87707114 0.87984919\n",
      " 0.87796408 0.89185435 0.90713364 0.89671594 0.8707213  0.87250719\n",
      " 0.8462149  0.89413632 0.91626153 0.89294573 0.88768727 0.89106062\n",
      " 0.85583887 0.80682607 0.83401131 0.86526441 0.84611569 0.84323842\n",
      " 0.85325925 0.85127493 0.85375533 0.86665344 0.85454906 0.84849687\n",
      " 0.86556206 0.84919139 0.86814168 0.91130072 0.90961405 0.92876277\n",
      " 0.94761385 0.95386447 0.93590634 0.92548864 0.90643913 0.89225122\n",
      " 0.87935311 0.88371862 0.90336343 0.9129874  0.89529711 0.89717138\n",
      " 0.89560455 0.89328265 0.89084476 0.88835204 0.88576728 0.88305491\n",
      " 0.88018727 0.87713963 0.87388837 0.87040913 0.86667705 0.86266601\n",
      " 0.85834801 0.85369498 0.84867638 0.84325945 0.83741057 0.83109188\n",
      " 0.8242631  0.81688094 0.80889714 0.80025864]\n",
      "24 day output [[0.7909074]]\n",
      "25 day input [0.94820915 0.92161921 0.91080464 0.9509872  0.97589047 0.98243873\n",
      " 0.95942058 0.94711777 0.94433972 0.96249628 0.9712273  0.95445977\n",
      " 0.95426134 0.97926382 0.97817244 0.99613057 0.99622978 0.99732116\n",
      " 1.         0.99226114 0.98571287 0.96527433 0.94007342 0.93898204\n",
      " 0.91199524 0.88828257 0.89909713 0.85435063 0.81625161 0.84115488\n",
      " 0.83897212 0.84800079 0.86179184 0.87707114 0.87984919 0.87796408\n",
      " 0.89185435 0.90713364 0.89671594 0.8707213  0.87250719 0.8462149\n",
      " 0.89413632 0.91626153 0.89294573 0.88768727 0.89106062 0.85583887\n",
      " 0.80682607 0.83401131 0.86526441 0.84611569 0.84323842 0.85325925\n",
      " 0.85127493 0.85375533 0.86665344 0.85454906 0.84849687 0.86556206\n",
      " 0.84919139 0.86814168 0.91130072 0.90961405 0.92876277 0.94761385\n",
      " 0.95386447 0.93590634 0.92548864 0.90643913 0.89225122 0.87935311\n",
      " 0.88371862 0.90336343 0.9129874  0.89529711 0.89717138 0.89560455\n",
      " 0.89328265 0.89084476 0.88835204 0.88576728 0.88305491 0.88018727\n",
      " 0.87713963 0.87388837 0.87040913 0.86667705 0.86266601 0.85834801\n",
      " 0.85369498 0.84867638 0.84325945 0.83741057 0.83109188 0.8242631\n",
      " 0.81688094 0.80889714 0.80025864 0.79090738]\n",
      "25 day output [[0.7807771]]\n",
      "26 day input [0.92161921 0.91080464 0.9509872  0.97589047 0.98243873 0.95942058\n",
      " 0.94711777 0.94433972 0.96249628 0.9712273  0.95445977 0.95426134\n",
      " 0.97926382 0.97817244 0.99613057 0.99622978 0.99732116 1.\n",
      " 0.99226114 0.98571287 0.96527433 0.94007342 0.93898204 0.91199524\n",
      " 0.88828257 0.89909713 0.85435063 0.81625161 0.84115488 0.83897212\n",
      " 0.84800079 0.86179184 0.87707114 0.87984919 0.87796408 0.89185435\n",
      " 0.90713364 0.89671594 0.8707213  0.87250719 0.8462149  0.89413632\n",
      " 0.91626153 0.89294573 0.88768727 0.89106062 0.85583887 0.80682607\n",
      " 0.83401131 0.86526441 0.84611569 0.84323842 0.85325925 0.85127493\n",
      " 0.85375533 0.86665344 0.85454906 0.84849687 0.86556206 0.84919139\n",
      " 0.86814168 0.91130072 0.90961405 0.92876277 0.94761385 0.95386447\n",
      " 0.93590634 0.92548864 0.90643913 0.89225122 0.87935311 0.88371862\n",
      " 0.90336343 0.9129874  0.89529711 0.89717138 0.89560455 0.89328265\n",
      " 0.89084476 0.88835204 0.88576728 0.88305491 0.88018727 0.87713963\n",
      " 0.87388837 0.87040913 0.86667705 0.86266601 0.85834801 0.85369498\n",
      " 0.84867638 0.84325945 0.83741057 0.83109188 0.8242631  0.81688094\n"
     ]
    },
    {
     "name": "stdout",
     "output_type": "stream",
     "text": [
      " 0.80889714 0.80025864 0.79090738 0.7807771 ]\n",
      "26 day output [[0.7697962]]\n",
      "27 day input [0.91080464 0.9509872  0.97589047 0.98243873 0.95942058 0.94711777\n",
      " 0.94433972 0.96249628 0.9712273  0.95445977 0.95426134 0.97926382\n",
      " 0.97817244 0.99613057 0.99622978 0.99732116 1.         0.99226114\n",
      " 0.98571287 0.96527433 0.94007342 0.93898204 0.91199524 0.88828257\n",
      " 0.89909713 0.85435063 0.81625161 0.84115488 0.83897212 0.84800079\n",
      " 0.86179184 0.87707114 0.87984919 0.87796408 0.89185435 0.90713364\n",
      " 0.89671594 0.8707213  0.87250719 0.8462149  0.89413632 0.91626153\n",
      " 0.89294573 0.88768727 0.89106062 0.85583887 0.80682607 0.83401131\n",
      " 0.86526441 0.84611569 0.84323842 0.85325925 0.85127493 0.85375533\n",
      " 0.86665344 0.85454906 0.84849687 0.86556206 0.84919139 0.86814168\n",
      " 0.91130072 0.90961405 0.92876277 0.94761385 0.95386447 0.93590634\n",
      " 0.92548864 0.90643913 0.89225122 0.87935311 0.88371862 0.90336343\n",
      " 0.9129874  0.89529711 0.89717138 0.89560455 0.89328265 0.89084476\n",
      " 0.88835204 0.88576728 0.88305491 0.88018727 0.87713963 0.87388837\n",
      " 0.87040913 0.86667705 0.86266601 0.85834801 0.85369498 0.84867638\n",
      " 0.84325945 0.83741057 0.83109188 0.8242631  0.81688094 0.80889714\n",
      " 0.80025864 0.79090738 0.7807771  0.76979619]\n",
      "27 day output [[0.75788265]]\n",
      "28 day input [0.9509872  0.97589047 0.98243873 0.95942058 0.94711777 0.94433972\n",
      " 0.96249628 0.9712273  0.95445977 0.95426134 0.97926382 0.97817244\n",
      " 0.99613057 0.99622978 0.99732116 1.         0.99226114 0.98571287\n",
      " 0.96527433 0.94007342 0.93898204 0.91199524 0.88828257 0.89909713\n",
      " 0.85435063 0.81625161 0.84115488 0.83897212 0.84800079 0.86179184\n",
      " 0.87707114 0.87984919 0.87796408 0.89185435 0.90713364 0.89671594\n",
      " 0.8707213  0.87250719 0.8462149  0.89413632 0.91626153 0.89294573\n",
      " 0.88768727 0.89106062 0.85583887 0.80682607 0.83401131 0.86526441\n",
      " 0.84611569 0.84323842 0.85325925 0.85127493 0.85375533 0.86665344\n",
      " 0.85454906 0.84849687 0.86556206 0.84919139 0.86814168 0.91130072\n",
      " 0.90961405 0.92876277 0.94761385 0.95386447 0.93590634 0.92548864\n",
      " 0.90643913 0.89225122 0.87935311 0.88371862 0.90336343 0.9129874\n",
      " 0.89529711 0.89717138 0.89560455 0.89328265 0.89084476 0.88835204\n",
      " 0.88576728 0.88305491 0.88018727 0.87713963 0.87388837 0.87040913\n",
      " 0.86667705 0.86266601 0.85834801 0.85369498 0.84867638 0.84325945\n",
      " 0.83741057 0.83109188 0.8242631  0.81688094 0.80889714 0.80025864\n",
      " 0.79090738 0.7807771  0.76979619 0.75788265]\n",
      "28 day output [[0.74494493]]\n",
      "29 day input [0.97589047 0.98243873 0.95942058 0.94711777 0.94433972 0.96249628\n",
      " 0.9712273  0.95445977 0.95426134 0.97926382 0.97817244 0.99613057\n",
      " 0.99622978 0.99732116 1.         0.99226114 0.98571287 0.96527433\n",
      " 0.94007342 0.93898204 0.91199524 0.88828257 0.89909713 0.85435063\n",
      " 0.81625161 0.84115488 0.83897212 0.84800079 0.86179184 0.87707114\n",
      " 0.87984919 0.87796408 0.89185435 0.90713364 0.89671594 0.8707213\n",
      " 0.87250719 0.8462149  0.89413632 0.91626153 0.89294573 0.88768727\n",
      " 0.89106062 0.85583887 0.80682607 0.83401131 0.86526441 0.84611569\n",
      " 0.84323842 0.85325925 0.85127493 0.85375533 0.86665344 0.85454906\n",
      " 0.84849687 0.86556206 0.84919139 0.86814168 0.91130072 0.90961405\n",
      " 0.92876277 0.94761385 0.95386447 0.93590634 0.92548864 0.90643913\n",
      " 0.89225122 0.87935311 0.88371862 0.90336343 0.9129874  0.89529711\n",
      " 0.89717138 0.89560455 0.89328265 0.89084476 0.88835204 0.88576728\n",
      " 0.88305491 0.88018727 0.87713963 0.87388837 0.87040913 0.86667705\n",
      " 0.86266601 0.85834801 0.85369498 0.84867638 0.84325945 0.83741057\n",
      " 0.83109188 0.8242631  0.81688094 0.80889714 0.80025864 0.79090738\n",
      " 0.7807771  0.76979619 0.75788265 0.74494493]\n",
      "29 day output [[0.73088163]]\n",
      "[[0.895297110080719], [0.8971713781356812], [0.8956045508384705], [0.8932826519012451], [0.8908447623252869], [0.8883520364761353], [0.8857672810554504], [0.8830549120903015], [0.8801872730255127], [0.8771396279335022], [0.873888373374939], [0.8704091310501099], [0.8666770458221436], [0.8626660108566284], [0.85834801197052], [0.8536949753761292], [0.8486763834953308], [0.8432594537734985], [0.837410569190979], [0.8310918807983398], [0.8242630958557129], [0.8168809413909912], [0.8088971376419067], [0.8002586364746094], [0.7909073829650879], [0.780777096748352], [0.7697961926460266], [0.7578826546669006], [0.7449449300765991], [0.7308816313743591]]\n"
     ]
    }
   ],
   "source": [
    "# demonstrate prediction for next 10 days\n",
    "from numpy import array\n",
    "\n",
    "lst_output=[]\n",
    "n_steps=100\n",
    "i=0\n",
    "while(i<30):\n",
    "    \n",
    "    if(len(temp_input)>100):\n",
    "        #print(temp_input)\n",
    "        x_input=np.array(temp_input[1:])\n",
    "        print(\"{} day input {}\".format(i,x_input))\n",
    "        x_input=x_input.reshape(1,-1)\n",
    "        x_input = x_input.reshape((1, n_steps, 1))\n",
    "        #print(x_input)\n",
    "        yhat = model.predict(x_input, verbose=0)\n",
    "        print(\"{} day output {}\".format(i,yhat))\n",
    "        temp_input.extend(yhat[0].tolist())\n",
    "        temp_input=temp_input[1:]\n",
    "        #print(temp_input)\n",
    "        lst_output.extend(yhat.tolist())\n",
    "        i=i+1\n",
    "    else:\n",
    "        x_input = x_input.reshape((1, n_steps,1))\n",
    "        yhat = model.predict(x_input, verbose=0)\n",
    "        print(yhat[0])\n",
    "        temp_input.extend(yhat[0].tolist())\n",
    "        print(len(temp_input))\n",
    "        lst_output.extend(yhat.tolist())\n",
    "        i=i+1\n",
    "    \n",
    "\n",
    "print(lst_output)"
   ]
  },
  {
   "cell_type": "code",
   "execution_count": 39,
   "id": "3ff19d8b",
   "metadata": {},
   "outputs": [],
   "source": [
    "day_new=np.arange(1,101)\n",
    "day_pred=np.arange(101,131)"
   ]
  },
  {
   "cell_type": "code",
   "execution_count": 50,
   "id": "15097999",
   "metadata": {},
   "outputs": [
    {
     "data": {
      "text/plain": [
       "(1257, 1)"
      ]
     },
     "execution_count": 50,
     "metadata": {},
     "output_type": "execute_result"
    }
   ],
   "source": [
    "df1.shape\n",
    "#scaler.inverse_transform(df1[1257:])"
   ]
  },
  {
   "cell_type": "code",
   "execution_count": 53,
   "id": "2a7e55f7",
   "metadata": {},
   "outputs": [
    {
     "data": {
      "text/plain": [
       "[[0.895297110080719],\n",
       " [0.8971713781356812],\n",
       " [0.8956045508384705],\n",
       " [0.8932826519012451],\n",
       " [0.8908447623252869],\n",
       " [0.8883520364761353],\n",
       " [0.8857672810554504],\n",
       " [0.8830549120903015],\n",
       " [0.8801872730255127],\n",
       " [0.8771396279335022],\n",
       " [0.873888373374939],\n",
       " [0.8704091310501099],\n",
       " [0.8666770458221436],\n",
       " [0.8626660108566284],\n",
       " [0.85834801197052],\n",
       " [0.8536949753761292],\n",
       " [0.8486763834953308],\n",
       " [0.8432594537734985],\n",
       " [0.837410569190979],\n",
       " [0.8310918807983398],\n",
       " [0.8242630958557129],\n",
       " [0.8168809413909912],\n",
       " [0.8088971376419067],\n",
       " [0.8002586364746094],\n",
       " [0.7909073829650879],\n",
       " [0.780777096748352],\n",
       " [0.7697961926460266],\n",
       " [0.7578826546669006],\n",
       " [0.7449449300765991],\n",
       " [0.7308816313743591]]"
      ]
     },
     "execution_count": 53,
     "metadata": {},
     "output_type": "execute_result"
    }
   ],
   "source": [
    "lst_output"
   ]
  },
  {
   "cell_type": "code",
   "execution_count": 54,
   "id": "2419f012",
   "metadata": {},
   "outputs": [
    {
     "data": {
      "text/plain": [
       "array([[155.88699573],\n",
       "       [156.0759032 ],\n",
       "       [155.91798268],\n",
       "       [155.68395849],\n",
       "       [155.43824359],\n",
       "       [155.18700176],\n",
       "       [154.92648426],\n",
       "       [154.65310459],\n",
       "       [154.36407525],\n",
       "       [154.0569031 ],\n",
       "       [153.72920915],\n",
       "       [153.37853632],\n",
       "       [153.00237945],\n",
       "       [152.59810723],\n",
       "       [152.16289613],\n",
       "       [151.69391657],\n",
       "       [151.18809269],\n",
       "       [150.64212035],\n",
       "       [150.05261127],\n",
       "       [149.41575067],\n",
       "       [148.72747743],\n",
       "       [147.98343008],\n",
       "       [147.1787425 ],\n",
       "       [146.30806797],\n",
       "       [145.36555513],\n",
       "       [144.34452358],\n",
       "       [143.23775826],\n",
       "       [142.03699276],\n",
       "       [140.7329995 ],\n",
       "       [139.31555963]])"
      ]
     },
     "execution_count": 54,
     "metadata": {},
     "output_type": "execute_result"
    }
   ],
   "source": [
    "scaler.inverse_transform(lst_output)"
   ]
  },
  {
   "cell_type": "code",
   "execution_count": 73,
   "id": "49fe2cfd",
   "metadata": {},
   "outputs": [
    {
     "data": {
      "text/plain": [
       "array([[157.67]])"
      ]
     },
     "execution_count": 73,
     "metadata": {},
     "output_type": "execute_result"
    }
   ],
   "source": [
    "scaler.inverse_transform(df1[1256:])\n",
    "#scaler.inverse_transform(df1[1257:,])"
   ]
  },
  {
   "cell_type": "code",
   "execution_count": 76,
   "id": "8436aef1",
   "metadata": {},
   "outputs": [
    {
     "data": {
      "text/plain": [
       "[<matplotlib.lines.Line2D at 0x2b48a055ac0>]"
      ]
     },
     "execution_count": 76,
     "metadata": {},
     "output_type": "execute_result"
    },
    {
     "data": {
      "image/png": "[encoded data removed]",
      "text/plain": [
       "<Figure size 432x288 with 1 Axes>"
      ]
     },
     "metadata": {
      "needs_background": "light"
     },
     "output_type": "display_data"
    }
   ],
   "source": [
    "#plt.plot(day_new,df1[1156:])\n",
    "plt.plot(day_pred,scaler.inverse_transform(lst_output))"
   ]
  },
  {
   "cell_type": "code",
   "execution_count": 55,
   "id": "fc945c38",
   "metadata": {},
   "outputs": [
    {
     "data": {
      "text/plain": [
       "[<matplotlib.lines.Line2D at 0x2b486a52ac0>]"
      ]
     },
     "execution_count": 55,
     "metadata": {},
     "output_type": "execute_result"
    },
    {
     "data": {
      "image/png": "[encoded data removed]",
      "text/plain": [
       "<Figure size 432x288 with 1 Axes>"
      ]
     },
     "metadata": {
      "needs_background": "light"
     },
     "output_type": "display_data"
    }
   ],
   "source": [
    "df3=df1.tolist()\n",
    "df3.extend(lst_output)\n",
    "plt.plot(df3[1200:])"
   ]
  },
  {
   "cell_type": "code",
   "execution_count": 56,
   "id": "50ccd0e4",
   "metadata": {},
   "outputs": [],
   "source": [
    "df3=scaler.inverse_transform(df3).tolist()"
   ]
  },
  {
   "cell_type": "code",
   "execution_count": 57,
   "id": "41094138",
   "metadata": {},
   "outputs": [
    {
     "data": {
      "text/plain": [
       "[<matplotlib.lines.Line2D at 0x2b487c3a7f0>]"
      ]
     },
     "execution_count": 57,
     "metadata": {},
     "output_type": "execute_result"
    },
    {
     "data": {
      "image/png": "[encoded data removed]",
      "text/plain": [
       "<Figure size 432x288 with 1 Axes>"
      ]
     },
     "metadata": {
      "needs_background": "light"
     },
     "output_type": "display_data"
    }
   ],
   "source": [
    "plt.plot(df3)"
   ]
  },
  {
   "cell_type": "code",
   "execution_count": null,
   "id": "f4045134",
   "metadata": {},
   "outputs": [],
   "source": []
  },
  {
   "cell_type": "code",
   "execution_count": null,
   "id": "5c5741ed",
   "metadata": {},
   "outputs": [],
   "source": []
  },
  {
   "cell_type": "code",
   "execution_count": null,
   "id": "c9f1592a",
   "metadata": {},
   "outputs": [],
   "source": []
  },
  {
   "cell_type": "code",
   "execution_count": null,
   "id": "e04d7606",
   "metadata": {},
   "outputs": [],
   "source": []
  },
  {
   "cell_type": "code",
   "execution_count": null,
   "id": "11d0f4e8",
   "metadata": {},
   "outputs": [],
   "source": []
  }
 ],
 "metadata": {
  "kernelspec": {
   "display_name": "Python 3",
   "language": "python",
   "name": "python3"
  },
  "language_info": {
   "codemirror_mode": {
    "name": "ipython",
    "version": 3
   },
   "file_extension": ".py",
   "mimetype": "text/x-python",
   "name": "python",
   "nbconvert_exporter": "python",
   "pygments_lexer": "ipython3",
   "version": "3.8.8"
  }
 },
 "nbformat": 4,
 "nbformat_minor": 5
}
